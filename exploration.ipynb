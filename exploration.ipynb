{
 "cells": [
  {
   "cell_type": "markdown",
   "metadata": {},
   "source": [
    "My goal is to create a chess engine based on convolutional neural nets and reinforcement learning.  But first I will try to answer the question \"can convnets learn useful features to represent chess positions\".  In this notebook, I will train autoencoders on chess positions and attempt to find neurons that have learned semantically meaningful features."
   ]
  },
  {
   "cell_type": "code",
   "execution_count": 1,
   "metadata": {
    "collapsed": true
   },
   "outputs": [],
   "source": [
    "# for auto-reloading extenrnal modules\n",
    "# see http://stackoverflow.com/questions/1907993/autoreload-of-modules-in-ipython\n",
    "%load_ext autoreload\n",
    "%autoreload 2"
   ]
  },
  {
   "cell_type": "code",
   "execution_count": 2,
   "metadata": {
    "collapsed": true
   },
   "outputs": [],
   "source": [
    "%matplotlib notebook"
   ]
  },
  {
   "cell_type": "code",
   "execution_count": 3,
   "metadata": {
    "collapsed": true
   },
   "outputs": [],
   "source": [
    "# make variables display whenever they are on their own line (not just the last line of a cell)\n",
    "from IPython.core.interactiveshell import InteractiveShell\n",
    "InteractiveShell.ast_node_interactivity = \"all\""
   ]
  },
  {
   "cell_type": "code",
   "execution_count": 4,
   "metadata": {
    "collapsed": true
   },
   "outputs": [],
   "source": [
    "import chess\n",
    "import chess.pgn\n",
    "import math\n",
    "import pystockfish\n",
    "import json\n",
    "\n",
    "from sklearn import model_selection\n",
    "import numpy as np\n",
    "import tensorflow as tf\n",
    "import matplotlib.pyplot as plt\n",
    "\n",
    "from utils import *"
   ]
  },
  {
   "cell_type": "markdown",
   "metadata": {},
   "source": [
    "# Load data"
   ]
  },
  {
   "cell_type": "code",
   "execution_count": null,
   "metadata": {
    "collapsed": true
   },
   "outputs": [],
   "source": [
    "board_fens = load_boards_from_pgnf('data/ficsgamesdb_201701_chess_nomovetimes_1500955.pgn', num_games=200)"
   ]
  },
  {
   "cell_type": "code",
   "execution_count": null,
   "metadata": {
    "collapsed": true
   },
   "outputs": [],
   "source": [
    "X = fens_to_arrs(board_fens)\n",
    "eval_inds = np.random.choice(X.shape[0], 1000)\n",
    "\n",
    "X_train = X[~eval_inds]\n",
    "X_eval = X[eval_inds]"
   ]
  },
  {
   "cell_type": "code",
   "execution_count": null,
   "metadata": {
    "collapsed": true
   },
   "outputs": [],
   "source": [
    "scored = score_fens(board_fens)"
   ]
  },
  {
   "cell_type": "code",
   "execution_count": null,
   "metadata": {
    "collapsed": true
   },
   "outputs": [],
   "source": [
    "with open('data.json', 'w') as fp:\n",
    "    json.dump(scored, fp)"
   ]
  },
  {
   "cell_type": "code",
   "execution_count": 5,
   "metadata": {
    "collapsed": true
   },
   "outputs": [],
   "source": [
    "with open('data/data.json') as fp:\n",
    "    data = json.load(fp)\n",
    "\n",
    "X, y = convert_and_normalize(data)"
   ]
  },
  {
   "cell_type": "code",
   "execution_count": 6,
   "metadata": {},
   "outputs": [],
   "source": [
    "X_train, X_eval, y_train, y_eval = model_selection.train_test_split(X, y, train_size=.9)"
   ]
  },
  {
   "cell_type": "markdown",
   "metadata": {},
   "source": [
    "# Regression"
   ]
  },
  {
   "cell_type": "code",
   "execution_count": null,
   "metadata": {
    "collapsed": true
   },
   "outputs": [],
   "source": [
    "tf.reset_default_graph()\n",
    "\n",
    "X_ph = tf.placeholder('float', [None, 8, 8, 6], name='input_x')\n",
    "y_ph = tf.placeholder('float', [None, 1], name='input_y')\n",
    "sess = tf.Session(config=tf.ConfigProto(log_device_placement=True))\n",
    "\n",
    "cnn = make_resnet(X_ph, y_ph, sess)"
   ]
  },
  {
   "cell_type": "code",
   "execution_count": null,
   "metadata": {
    "collapsed": true
   },
   "outputs": [],
   "source": [
    "train_labeled(cnn, X[:1000], y[:1000], X_ph, y_ph, sess, batch_size=10, lr=.01)"
   ]
  },
  {
   "cell_type": "code",
   "execution_count": 17,
   "metadata": {
    "collapsed": true
   },
   "outputs": [],
   "source": [
    "tf.reset_default_graph()\n",
    "\n",
    "X_ph = tf.placeholder('float', [None, 8, 8, 6], name='input_x')\n",
    "y_ph = tf.placeholder('float', [None, 1], name='input_y')\n",
    "sess = tf.Session(config=tf.ConfigProto(log_device_placement=True))\n",
    "\n",
    "cnn = create_cnn(X_ph, y_ph, [50], 1024, sess)"
   ]
  },
  {
   "cell_type": "code",
   "execution_count": 18,
   "metadata": {
    "scrolled": true
   },
   "outputs": [
    {
     "name": "stdout",
     "output_type": "stream",
     "text": [
      "[b'conv_layer_0/batch_normalization/beta'\n",
      " b'conv_layer_0/batch_normalization/gamma'\n",
      " b'conv_layer_0/batch_normalization/moving_mean'\n",
      " b'conv_layer_0/batch_normalization/moving_variance' b'beta1_power'\n",
      " b'beta2_power' b'conv_layer_0/filters/Adam' b'conv_layer_0/filters/Adam_1'\n",
      " b'conv_layer_0/Variable/Adam' b'conv_layer_0/Variable/Adam_1'\n",
      " b'conv_layer_0/batch_normalization/beta/Adam'\n",
      " b'conv_layer_0/batch_normalization/beta/Adam_1'\n",
      " b'conv_layer_0/batch_normalization/gamma/Adam'\n",
      " b'conv_layer_0/batch_normalization/gamma/Adam_1' b'fc_weights1/Adam'\n",
      " b'fc_weights1/Adam_1' b'Variable/Adam' b'Variable/Adam_1'\n",
      " b'fc_weights2/Adam' b'fc_weights2/Adam_1' b'Variable_1/Adam'\n",
      " b'Variable_1/Adam_1']\n",
      "0  cost 1.83395e+06\n",
      "eval cost 664603.0\n",
      "1000  cost 117967.0\n",
      "eval cost 627198.0\n",
      "2000  cost 206527.0\n",
      "eval cost 588146.0\n",
      "3000  cost 585066.0\n",
      "eval cost 559343.0\n",
      "4000  cost 150171.0\n",
      "eval cost 532444.0\n",
      "5000  cost 926178.0\n",
      "eval cost 510348.0\n",
      "6000  cost 54729.9\n",
      "eval cost 486451.0\n",
      "7000  cost 94280.8\n",
      "eval cost 469281.0\n",
      "8000  cost 81247.3\n",
      "eval cost 451453.0\n",
      "9000  cost 183630.0\n",
      "eval cost 437005.0\n",
      "10000  cost 253362.0\n",
      "eval cost 427866.0\n",
      "11000  cost 373972.0\n",
      "eval cost 420946.0\n",
      "12000  cost 277958.0\n",
      "eval cost 415915.0\n",
      "13000  cost 188713.0\n",
      "eval cost 400775.0\n",
      "14000  cost 134214.0\n",
      "eval cost 399125.0\n",
      "15000  cost 191238.0\n",
      "eval cost 388274.0\n",
      "16000  cost 97500.7\n",
      "eval cost 372007.0\n",
      "17000  cost 427781.0\n",
      "eval cost 375071.0\n",
      "18000  cost 28679.7\n",
      "eval cost 372331.0\n",
      "19000  cost 248350.0\n",
      "eval cost 371783.0\n"
     ]
    }
   ],
   "source": [
    "train_labeled(cnn, X_train, y_train, X_ph, y_ph, sess, X_eval=X_eval, y_eval=y_eval, batch_size=32, lr=.0001)"
   ]
  },
  {
   "cell_type": "code",
   "execution_count": null,
   "metadata": {},
   "outputs": [],
   "source": [
    "sess.run(cnn['cost'], feed_dict={X_ph: X_eval, y_ph: y_eval[:, np.newaxis]})"
   ]
  },
  {
   "cell_type": "code",
   "execution_count": null,
   "metadata": {},
   "outputs": [],
   "source": [
    "y_train.shape\n",
    "y_eval.shape"
   ]
  },
  {
   "cell_type": "code",
   "execution_count": null,
   "metadata": {},
   "outputs": [],
   "source": [
    "np.sum(np.square(y[:10] - 5))"
   ]
  },
  {
   "cell_type": "code",
   "execution_count": null,
   "metadata": {
    "collapsed": true
   },
   "outputs": [],
   "source": [
    "np.mean(X)"
   ]
  },
  {
   "cell_type": "code",
   "execution_count": null,
   "metadata": {
    "collapsed": true
   },
   "outputs": [],
   "source": [
    "filters = sess.run(tf.get_default_graph().get_tensor_by_name('conv_layer_0/filters:0'))"
   ]
  },
  {
   "cell_type": "code",
   "execution_count": null,
   "metadata": {},
   "outputs": [],
   "source": [
    "plt.imshow(filters[:,:,0,40], cmap='binary')"
   ]
  },
  {
   "cell_type": "markdown",
   "metadata": {},
   "source": [
    "## First experiment: fully connected autoencoder"
   ]
  },
  {
   "cell_type": "code",
   "execution_count": null,
   "metadata": {
    "collapsed": true
   },
   "outputs": [],
   "source": [
    "sess = tf.Session(config=tf.ConfigProto(log_device_placement=True))"
   ]
  },
  {
   "cell_type": "code",
   "execution_count": null,
   "metadata": {
    "collapsed": true
   },
   "outputs": [],
   "source": [
    "flat_input_ph = tf.placeholder(\"float\", [None, 8 * 8 * 6])\n",
    "fc_autoencoder1 = create_fully_connected(flat_input_ph, [60, 30, 20], sess)"
   ]
  },
  {
   "cell_type": "code",
   "execution_count": null,
   "metadata": {
    "collapsed": true
   },
   "outputs": [],
   "source": [
    "# writer = tf.summary.FileWriter('./logs/', graph=tf.get_default_graph())"
   ]
  },
  {
   "cell_type": "code",
   "execution_count": null,
   "metadata": {
    "collapsed": true
   },
   "outputs": [],
   "source": [
    "train(fc_autoencoder1, X_train, True, flat_input_ph, sess, num_iters=2000)"
   ]
  },
  {
   "cell_type": "code",
   "execution_count": null,
   "metadata": {
    "collapsed": true
   },
   "outputs": [],
   "source": [
    "decodedLong = sess.run(fc_autoencoder1['decoded'], feed_dict={flat_input_ph: np.reshape(X_eval, (X_eval.shape[0], -1))})\n",
    "\n",
    "decoded = np.reshape(decodedLong, (X_eval.shape[0], 8, 8, 6))"
   ]
  },
  {
   "cell_type": "code",
   "execution_count": null,
   "metadata": {
    "collapsed": true
   },
   "outputs": [],
   "source": [
    "np.sum(quantize_arr_vec(decoded) != X_eval) / decoded.size"
   ]
  },
  {
   "cell_type": "code",
   "execution_count": null,
   "metadata": {
    "collapsed": true
   },
   "outputs": [],
   "source": [
    "arr_to_board(decoded[40])\n",
    "arr_to_board(X_eval[40])"
   ]
  },
  {
   "cell_type": "markdown",
   "metadata": {},
   "source": [
    "## Overfit on a tiny training set"
   ]
  },
  {
   "cell_type": "code",
   "execution_count": null,
   "metadata": {
    "collapsed": true
   },
   "outputs": [],
   "source": [
    "small_inds = np.random.choice(X.shape[0], 10)\n",
    "X_small = X[small_inds]"
   ]
  },
  {
   "cell_type": "code",
   "execution_count": null,
   "metadata": {
    "collapsed": true
   },
   "outputs": [],
   "source": [
    "flat_input_ph = tf.placeholder(\"float\", [None, 8 * 8 * 6])\n",
    "# conv_ae = create_cae(input_ph, [], 400)\n",
    "fc_autoencoder1 = create_fully_connected(flat_input_ph, [60, 30, 20], sess)"
   ]
  },
  {
   "cell_type": "code",
   "execution_count": null,
   "metadata": {
    "collapsed": true
   },
   "outputs": [],
   "source": [
    "train(fc_autoencoder1, X_small, True, flat_input_ph, sess, num_iters=10000, lr=.001, batch_size=10)"
   ]
  },
  {
   "cell_type": "code",
   "execution_count": null,
   "metadata": {
    "collapsed": true
   },
   "outputs": [],
   "source": [
    "arr_to_board(X_small[0])\n",
    "arr_to_board(np.reshape(sess.run(fc_autoencoder1['decoded'],\n",
    "                                 feed_dict={flat_input_ph: np.reshape(X_small, (1, -1))})[0], (8, 8, 6)))"
   ]
  },
  {
   "cell_type": "markdown",
   "metadata": {},
   "source": [
    "## Now a simple conv net"
   ]
  },
  {
   "cell_type": "code",
   "execution_count": null,
   "metadata": {
    "collapsed": true,
    "scrolled": false
   },
   "outputs": [],
   "source": [
    "input_ph = tf.placeholder(\"float\", [None, 8, 8, 6])\n",
    "conv_ae = create_cae(input_ph, [50, 50, 'pool', 50], 40)"
   ]
  },
  {
   "cell_type": "code",
   "execution_count": null,
   "metadata": {
    "collapsed": true
   },
   "outputs": [],
   "source": [
    "train(conv_ae, X_train, False, input_ph, sess, num_iters=10000, lr=.001)"
   ]
  },
  {
   "cell_type": "code",
   "execution_count": null,
   "metadata": {
    "collapsed": true
   },
   "outputs": [],
   "source": [
    "decoded = sess.run(conv_ae['decoded'], feed_dict={input_ph: X_eval})"
   ]
  },
  {
   "cell_type": "code",
   "execution_count": null,
   "metadata": {
    "collapsed": true
   },
   "outputs": [],
   "source": [
    "np.sum(quantize_arr_vec(decoded) != X_eval) / decoded.size"
   ]
  },
  {
   "cell_type": "code",
   "execution_count": null,
   "metadata": {
    "collapsed": true,
    "scrolled": false
   },
   "outputs": [],
   "source": [
    "arr_to_board(X_eval[52])\n",
    "arr_to_board(decoded[52])"
   ]
  },
  {
   "cell_type": "code",
   "execution_count": null,
   "metadata": {
    "collapsed": true
   },
   "outputs": [],
   "source": [
    "train_decoded = sess.run(conv_ae['decoded'], feed_dict={input_ph: X_train})"
   ]
  },
  {
   "cell_type": "code",
   "execution_count": null,
   "metadata": {
    "collapsed": true
   },
   "outputs": [],
   "source": [
    "np.sum(train_decoded > .5)"
   ]
  },
  {
   "cell_type": "code",
   "execution_count": null,
   "metadata": {
    "collapsed": true
   },
   "outputs": [],
   "source": [
    "np.sum(X_train > .5)"
   ]
  },
  {
   "cell_type": "code",
   "execution_count": null,
   "metadata": {
    "collapsed": true
   },
   "outputs": [],
   "source": [
    "np.sum(decoded > .5)"
   ]
  },
  {
   "cell_type": "markdown",
   "metadata": {},
   "source": [
    "# Come back to this later"
   ]
  },
  {
   "cell_type": "code",
   "execution_count": null,
   "metadata": {
    "collapsed": true
   },
   "outputs": [],
   "source": [
    "neuron = autoencoder['encoded'][0][5]\n",
    "neuron_grad = tf.gradients(neuron, x)\n",
    "\n",
    "# board = np.zeros((8,8,6))\n",
    "board = np.random.normal(size=(8,8,6), scale=.1)\n",
    "print(sess.run(neuron, feed_dict={x: np.reshape(board, (1, -1))}))\n",
    "\n",
    "for i in range(10000):\n",
    "    grad = sess.run(neuron_grad, feed_dict={x: np.reshape(board, (1, -1))})[0]\n",
    "    grad = np.reshape(grad, (8,8,6))\n",
    "    board += 1e-3 * grad\n",
    "    board[board > 1] = 1\n",
    "    board[board < -1] = -1\n",
    "    \n",
    "    if i % 1000 == 0:\n",
    "        print(sess.run(neuron, feed_dict={x: np.reshape(board, (1, -1))}))"
   ]
  },
  {
   "cell_type": "code",
   "execution_count": null,
   "metadata": {
    "collapsed": true
   },
   "outputs": [],
   "source": [
    "arr_to_board(board)"
   ]
  },
  {
   "cell_type": "code",
   "execution_count": null,
   "metadata": {
    "collapsed": true
   },
   "outputs": [],
   "source": [
    "board"
   ]
  },
  {
   "cell_type": "code",
   "execution_count": null,
   "metadata": {
    "collapsed": true
   },
   "outputs": [],
   "source": []
  }
 ],
 "metadata": {
  "kernelspec": {
   "display_name": "Python 3",
   "language": "python",
   "name": "python3"
  },
  "language_info": {
   "codemirror_mode": {
    "name": "ipython",
    "version": 3
   },
   "file_extension": ".py",
   "mimetype": "text/x-python",
   "name": "python",
   "nbconvert_exporter": "python",
   "pygments_lexer": "ipython3",
   "version": "3.6.1"
  }
 },
 "nbformat": 4,
 "nbformat_minor": 2
}
