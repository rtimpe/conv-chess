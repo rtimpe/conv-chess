{
 "cells": [
  {
   "cell_type": "code",
   "execution_count": 1,
   "metadata": {
    "collapsed": true
   },
   "outputs": [],
   "source": [
    "# make variables display whenever they are on their own line (not just the last line of a cell)\n",
    "from IPython.core.interactiveshell import InteractiveShell\n",
    "InteractiveShell.ast_node_interactivity = \"all\""
   ]
  },
  {
   "cell_type": "code",
   "execution_count": 11,
   "metadata": {
    "collapsed": true
   },
   "outputs": [],
   "source": [
    "import chess\n",
    "import chess.pgn\n",
    "import math\n",
    "\n",
    "import numpy as np\n",
    "import tensorflow as tf"
   ]
  },
  {
   "cell_type": "code",
   "execution_count": 3,
   "metadata": {
    "collapsed": true
   },
   "outputs": [],
   "source": [
    "def get_boards_from_game(game):\n",
    "    boards = []\n",
    "    node = game\n",
    "    while not node.is_end():\n",
    "        next_node = node.variations[0]\n",
    "        node = next_node\n",
    "        boards.append(node.board())\n",
    "    return boards"
   ]
  },
  {
   "cell_type": "code",
   "execution_count": 4,
   "metadata": {},
   "outputs": [],
   "source": [
    "def board_to_arr(board):\n",
    "    color_to_num = {chess.WHITE: 1, chess.BLACK: -1}\n",
    "    arr = np.zeros((8,8,6))\n",
    "    \n",
    "    for color in [True, False]:\n",
    "        for piece in range(6):\n",
    "            sqs = board.pieces(piece + 1, color)\n",
    "            for sq in sqs:\n",
    "                file = chess.square_file(sq)\n",
    "                rank = chess.square_rank(sq)\n",
    "                arr[file, rank, piece] = color_to_num[color]\n",
    "    return arr"
   ]
  },
  {
   "cell_type": "code",
   "execution_count": 5,
   "metadata": {},
   "outputs": [],
   "source": [
    "pgnf = open(\"data/ficsgamesdb_201701_standard_nomovetimes_1482388.pgn\")\n",
    "X = []\n",
    "for i in range(10):\n",
    "    game = chess.pgn.read_game(pgnf)\n",
    "    boards = get_boards_from_game(game)\n",
    "    for board in boards:\n",
    "        X.append(board_to_arr(board))\n",
    "X = np.array(X)"
   ]
  },
  {
   "cell_type": "code",
   "execution_count": 10,
   "metadata": {},
   "outputs": [
    {
     "name": "stdout",
     "output_type": "stream",
     "text": [
      "node3:  Tensor(\"Add:0\", shape=(), dtype=float32)\n",
      "sess.run(node3):  7.0\n"
     ]
    }
   ],
   "source": [
    "node1 = tf.constant(3.0, dtype=tf.float32)\n",
    "node2 = tf.constant(4.0) # also tf.float32 implicitly\n",
    "sess = tf.Session()\n",
    "\n",
    "node3 = tf.add(node1, node2)\n",
    "print(\"node3: \", node3)\n",
    "print(\"sess.run(node3): \",sess.run(node3))\n"
   ]
  },
  {
   "cell_type": "code",
   "execution_count": 12,
   "metadata": {
    "collapsed": true
   },
   "outputs": [],
   "source": [
    "def create(x, layer_sizes):\n",
    "    # Build the encoding layers\n",
    "    next_layer_input = x\n",
    "\n",
    "    encoding_matrices = []\n",
    "    for dim in layer_sizes:\n",
    "        input_dim = int(next_layer_input.get_shape()[1])\n",
    "\n",
    "        # Initialize W using random values in interval [-1/sqrt(n) , 1/sqrt(n)]\n",
    "        W = tf.Variable(tf.random_uniform([input_dim, dim], -1.0 / math.sqrt(input_dim), 1.0 / math.sqrt(input_dim)))\n",
    "\n",
    "        # Initialize b to zero\n",
    "        b = tf.Variable(tf.zeros([dim]))\n",
    "\n",
    "        # We are going to use tied-weights so store the W matrix for later reference.\n",
    "        encoding_matrices.append(W)\n",
    "\n",
    "        output = tf.nn.tanh(tf.matmul(next_layer_input,W) + b)\n",
    "\n",
    "        # the input into the next layer is the output of this layer\n",
    "        next_layer_input = output\n",
    "\n",
    "    # The fully encoded x value is now stored in the next_layer_input\n",
    "    encoded_x = next_layer_input\n",
    "\n",
    "    # build the reconstruction layers by reversing the reductions\n",
    "    layer_sizes.reverse()\n",
    "    encoding_matrices.reverse()\n",
    "\n",
    "\n",
    "    for i, dim in enumerate(layer_sizes[1:] + [ int(x.get_shape()[1])]) :\n",
    "        # we are using tied weights, so just lookup the encoding matrix for this step and transpose it\n",
    "        W = tf.transpose(encoding_matrices[i])\n",
    "        b = tf.Variable(tf.zeros([dim]))\n",
    "        output = tf.nn.tanh(tf.matmul(next_layer_input,W) + b)\n",
    "        next_layer_input = output\n",
    "\n",
    "    # the fully encoded and reconstructed value of x is here:\n",
    "    reconstructed_x = next_layer_input\n",
    "\n",
    "    return {\n",
    "    'encoded': encoded_x,\n",
    "    'decoded': reconstructed_x,\n",
    "    'cost' : tf.sqrt(tf.reduce_mean(tf.square(x-reconstructed_x)))\n",
    "    }\n"
   ]
  },
  {
   "cell_type": "code",
   "execution_count": 30,
   "metadata": {},
   "outputs": [
    {
     "name": "stdout",
     "output_type": "stream",
     "text": [
      "0  cost 0.274056\n",
      "500  cost 0.203873\n",
      "1000  cost 0.169389\n",
      "1500  cost 0.160678\n",
      "2000  cost 0.146135\n",
      "2500  cost 0.133144\n",
      "3000  cost 0.130061\n",
      "3500  cost 0.126469\n",
      "4000  cost 0.121531\n",
      "4500  cost 0.116807\n"
     ]
    }
   ],
   "source": [
    "sess = tf.Session()\n",
    "x = tf.placeholder(\"float\", [100, 8 * 8 * 6])\n",
    "autoencoder = create(x, [60, 30, 20])\n",
    "init = tf.global_variables_initializer()\n",
    "sess.run(init)\n",
    "train_step = tf.train.GradientDescentOptimizer(0.1).minimize(autoencoder['cost'])\n",
    "\n",
    "\n",
    "# Our dataset consists of two centers with gaussian noise w/ sigma = 0.1\n",
    "c1 = np.array([0,0,0.5,0])\n",
    "c2 = np.array([0.5,0,0,0])\n",
    "\n",
    "# do 1000 training steps\n",
    "for i in range(5000):\n",
    "    sess.run(train_step, feed_dict={x: np.reshape(X[:100], (100, -1))})\n",
    "    if i % 500 == 0:\n",
    "        print(i, \" cost\", sess.run(autoencoder['cost'], feed_dict={x: np.reshape(X[:100], (100, -1))}))"
   ]
  },
  {
   "cell_type": "code",
   "execution_count": 31,
   "metadata": {},
   "outputs": [],
   "source": [
    "encoded = sess.run(autoencoder['encoded'], feed_dict={x: np.reshape(X[:100], (100, -1))})"
   ]
  },
  {
   "cell_type": "code",
   "execution_count": 32,
   "metadata": {},
   "outputs": [
    {
     "data": {
      "text/plain": [
       "(100, 20)"
      ]
     },
     "execution_count": 32,
     "metadata": {},
     "output_type": "execute_result"
    }
   ],
   "source": [
    "encoded.shape"
   ]
  },
  {
   "cell_type": "code",
   "execution_count": null,
   "metadata": {
    "collapsed": true
   },
   "outputs": [],
   "source": []
  }
 ],
 "metadata": {
  "kernelspec": {
   "display_name": "Python 3",
   "language": "python",
   "name": "python3"
  },
  "language_info": {
   "codemirror_mode": {
    "name": "ipython",
    "version": 3
   },
   "file_extension": ".py",
   "mimetype": "text/x-python",
   "name": "python",
   "nbconvert_exporter": "python",
   "pygments_lexer": "ipython3",
   "version": "3.6.2"
  }
 },
 "nbformat": 4,
 "nbformat_minor": 2
}
