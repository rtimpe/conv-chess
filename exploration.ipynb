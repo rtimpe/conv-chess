{
 "cells": [
  {
   "cell_type": "markdown",
   "metadata": {},
   "source": [
    "My goal is to create a chess engine based on convolutional neural nets and reinforcement learning.  But first I will try to answer the question \"can convnets learn useful features to represent chess positions\".  In this notebook, I will train autoencoders on chess positions and attempt to find neurons that have learned semantically meaningful features."
   ]
  },
  {
   "cell_type": "code",
   "execution_count": 1,
   "metadata": {
    "collapsed": true
   },
   "outputs": [],
   "source": [
    "# for auto-reloading extenrnal modules\n",
    "# see http://stackoverflow.com/questions/1907993/autoreload-of-modules-in-ipython\n",
    "%load_ext autoreload\n",
    "%autoreload 2"
   ]
  },
  {
   "cell_type": "code",
   "execution_count": 2,
   "metadata": {
    "collapsed": true
   },
   "outputs": [],
   "source": [
    "%matplotlib notebook"
   ]
  },
  {
   "cell_type": "code",
   "execution_count": 3,
   "metadata": {
    "collapsed": true
   },
   "outputs": [],
   "source": [
    "# make variables display whenever they are on their own line (not just the last line of a cell)\n",
    "from IPython.core.interactiveshell import InteractiveShell\n",
    "InteractiveShell.ast_node_interactivity = \"all\""
   ]
  },
  {
   "cell_type": "code",
   "execution_count": 18,
   "metadata": {
    "collapsed": true
   },
   "outputs": [],
   "source": [
    "import chess\n",
    "import chess.pgn\n",
    "import math\n",
    "import pystockfish\n",
    "import json\n",
    "\n",
    "import numpy as np\n",
    "import tensorflow as tf\n",
    "import matplotlib.pyplot as plt\n",
    "\n",
    "from utils import *"
   ]
  },
  {
   "cell_type": "markdown",
   "metadata": {},
   "source": [
    "# Load data"
   ]
  },
  {
   "cell_type": "code",
   "execution_count": 5,
   "metadata": {
    "collapsed": true
   },
   "outputs": [],
   "source": [
    "board_fens = load_boards_from_pgnf('data/ficsgamesdb_201701_chess_nomovetimes_1500955.pgn', num_games=200)"
   ]
  },
  {
   "cell_type": "code",
   "execution_count": null,
   "metadata": {
    "collapsed": true
   },
   "outputs": [],
   "source": [
    "X = fens_to_arrs(board_fens)\n",
    "eval_inds = np.random.choice(X.shape[0], 1000)\n",
    "\n",
    "X_train = X[~eval_inds]\n",
    "X_eval = X[eval_inds]"
   ]
  },
  {
   "cell_type": "code",
   "execution_count": null,
   "metadata": {
    "collapsed": true
   },
   "outputs": [],
   "source": [
    "scored = score_fens(board_fens)"
   ]
  },
  {
   "cell_type": "code",
   "execution_count": null,
   "metadata": {
    "collapsed": true
   },
   "outputs": [],
   "source": [
    "with open('data.json', 'w') as fp:\n",
    "    json.dump(scored, fp)"
   ]
  },
  {
   "cell_type": "code",
   "execution_count": 6,
   "metadata": {
    "collapsed": true
   },
   "outputs": [],
   "source": [
    "with open('data/data.json') as fp:\n",
    "    data = json.load(fp)\n",
    "\n",
    "X, y = convert_and_normalize(data)"
   ]
  },
  {
   "cell_type": "code",
   "execution_count": null,
   "metadata": {
    "collapsed": true
   },
   "outputs": [],
   "source": [
    "chess.Board(fen=data[90][0])"
   ]
  },
  {
   "cell_type": "code",
   "execution_count": null,
   "metadata": {
    "collapsed": true
   },
   "outputs": [],
   "source": [
    "arr_to_board(X[128])"
   ]
  },
  {
   "cell_type": "markdown",
   "metadata": {},
   "source": [
    "# Regression"
   ]
  },
  {
   "cell_type": "code",
   "execution_count": 24,
   "metadata": {},
   "outputs": [],
   "source": [
    "tf.reset_default_graph()\n",
    "\n",
    "X_ph = tf.placeholder('float', [None, 8, 8, 6], name='input_x')\n",
    "y_ph = tf.placeholder('float', [None, 1], name='input_y')\n",
    "sess = tf.Session(config=tf.ConfigProto(log_device_placement=True))\n",
    "\n",
    "cnn = make_resnet(X_ph, y_ph, sess)"
   ]
  },
  {
   "cell_type": "code",
   "execution_count": null,
   "metadata": {},
   "outputs": [
    {
     "name": "stdout",
     "output_type": "stream",
     "text": [
      "[b'beta1_power' b'beta2_power' b'resnet_v2_50/conv1/weights/Adam'\n",
      " b'resnet_v2_50/conv1/weights/Adam_1' b'resnet_v2_50/conv1/biases/Adam'\n",
      " b'resnet_v2_50/conv1/biases/Adam_1'\n",
      " b'resnet_v2_50/block1/unit_1/bottleneck_v2/preact/beta/Adam'\n",
      " b'resnet_v2_50/block1/unit_1/bottleneck_v2/preact/beta/Adam_1'\n",
      " b'resnet_v2_50/block1/unit_1/bottleneck_v2/shortcut/weights/Adam'\n",
      " b'resnet_v2_50/block1/unit_1/bottleneck_v2/shortcut/weights/Adam_1'\n",
      " b'resnet_v2_50/block1/unit_1/bottleneck_v2/shortcut/biases/Adam'\n",
      " b'resnet_v2_50/block1/unit_1/bottleneck_v2/shortcut/biases/Adam_1'\n",
      " b'resnet_v2_50/block1/unit_1/bottleneck_v2/conv1/weights/Adam'\n",
      " b'resnet_v2_50/block1/unit_1/bottleneck_v2/conv1/weights/Adam_1'\n",
      " b'resnet_v2_50/block1/unit_1/bottleneck_v2/conv1/biases/Adam'\n",
      " b'resnet_v2_50/block1/unit_1/bottleneck_v2/conv1/biases/Adam_1'\n",
      " b'resnet_v2_50/block1/unit_1/bottleneck_v2/conv2/weights/Adam'\n",
      " b'resnet_v2_50/block1/unit_1/bottleneck_v2/conv2/weights/Adam_1'\n",
      " b'resnet_v2_50/block1/unit_1/bottleneck_v2/conv2/biases/Adam'\n",
      " b'resnet_v2_50/block1/unit_1/bottleneck_v2/conv2/biases/Adam_1'\n",
      " b'resnet_v2_50/block1/unit_1/bottleneck_v2/conv3/weights/Adam'\n",
      " b'resnet_v2_50/block1/unit_1/bottleneck_v2/conv3/weights/Adam_1'\n",
      " b'resnet_v2_50/block1/unit_1/bottleneck_v2/conv3/biases/Adam'\n",
      " b'resnet_v2_50/block1/unit_1/bottleneck_v2/conv3/biases/Adam_1'\n",
      " b'resnet_v2_50/block1/unit_2/bottleneck_v2/preact/beta/Adam'\n",
      " b'resnet_v2_50/block1/unit_2/bottleneck_v2/preact/beta/Adam_1'\n",
      " b'resnet_v2_50/block1/unit_2/bottleneck_v2/conv1/weights/Adam'\n",
      " b'resnet_v2_50/block1/unit_2/bottleneck_v2/conv1/weights/Adam_1'\n",
      " b'resnet_v2_50/block1/unit_2/bottleneck_v2/conv1/biases/Adam'\n",
      " b'resnet_v2_50/block1/unit_2/bottleneck_v2/conv1/biases/Adam_1'\n",
      " b'resnet_v2_50/block1/unit_2/bottleneck_v2/conv2/weights/Adam'\n",
      " b'resnet_v2_50/block1/unit_2/bottleneck_v2/conv2/weights/Adam_1'\n",
      " b'resnet_v2_50/block1/unit_2/bottleneck_v2/conv2/biases/Adam'\n",
      " b'resnet_v2_50/block1/unit_2/bottleneck_v2/conv2/biases/Adam_1'\n",
      " b'resnet_v2_50/block1/unit_2/bottleneck_v2/conv3/weights/Adam'\n",
      " b'resnet_v2_50/block1/unit_2/bottleneck_v2/conv3/weights/Adam_1'\n",
      " b'resnet_v2_50/block1/unit_2/bottleneck_v2/conv3/biases/Adam'\n",
      " b'resnet_v2_50/block1/unit_2/bottleneck_v2/conv3/biases/Adam_1'\n",
      " b'resnet_v2_50/block1/unit_3/bottleneck_v2/preact/beta/Adam'\n",
      " b'resnet_v2_50/block1/unit_3/bottleneck_v2/preact/beta/Adam_1'\n",
      " b'resnet_v2_50/block1/unit_3/bottleneck_v2/conv1/weights/Adam'\n",
      " b'resnet_v2_50/block1/unit_3/bottleneck_v2/conv1/weights/Adam_1'\n",
      " b'resnet_v2_50/block1/unit_3/bottleneck_v2/conv1/biases/Adam'\n",
      " b'resnet_v2_50/block1/unit_3/bottleneck_v2/conv1/biases/Adam_1'\n",
      " b'resnet_v2_50/block1/unit_3/bottleneck_v2/conv2/weights/Adam'\n",
      " b'resnet_v2_50/block1/unit_3/bottleneck_v2/conv2/weights/Adam_1'\n",
      " b'resnet_v2_50/block1/unit_3/bottleneck_v2/conv2/biases/Adam'\n",
      " b'resnet_v2_50/block1/unit_3/bottleneck_v2/conv2/biases/Adam_1'\n",
      " b'resnet_v2_50/block1/unit_3/bottleneck_v2/conv3/weights/Adam'\n",
      " b'resnet_v2_50/block1/unit_3/bottleneck_v2/conv3/weights/Adam_1'\n",
      " b'resnet_v2_50/block1/unit_3/bottleneck_v2/conv3/biases/Adam'\n",
      " b'resnet_v2_50/block1/unit_3/bottleneck_v2/conv3/biases/Adam_1'\n",
      " b'resnet_v2_50/block2/unit_1/bottleneck_v2/preact/beta/Adam'\n",
      " b'resnet_v2_50/block2/unit_1/bottleneck_v2/preact/beta/Adam_1'\n",
      " b'resnet_v2_50/block2/unit_1/bottleneck_v2/shortcut/weights/Adam'\n",
      " b'resnet_v2_50/block2/unit_1/bottleneck_v2/shortcut/weights/Adam_1'\n",
      " b'resnet_v2_50/block2/unit_1/bottleneck_v2/shortcut/biases/Adam'\n",
      " b'resnet_v2_50/block2/unit_1/bottleneck_v2/shortcut/biases/Adam_1'\n",
      " b'resnet_v2_50/block2/unit_1/bottleneck_v2/conv1/weights/Adam'\n",
      " b'resnet_v2_50/block2/unit_1/bottleneck_v2/conv1/weights/Adam_1'\n",
      " b'resnet_v2_50/block2/unit_1/bottleneck_v2/conv1/biases/Adam'\n",
      " b'resnet_v2_50/block2/unit_1/bottleneck_v2/conv1/biases/Adam_1'\n",
      " b'resnet_v2_50/block2/unit_1/bottleneck_v2/conv2/weights/Adam'\n",
      " b'resnet_v2_50/block2/unit_1/bottleneck_v2/conv2/weights/Adam_1'\n",
      " b'resnet_v2_50/block2/unit_1/bottleneck_v2/conv2/biases/Adam'\n",
      " b'resnet_v2_50/block2/unit_1/bottleneck_v2/conv2/biases/Adam_1'\n",
      " b'resnet_v2_50/block2/unit_1/bottleneck_v2/conv3/weights/Adam'\n",
      " b'resnet_v2_50/block2/unit_1/bottleneck_v2/conv3/weights/Adam_1'\n",
      " b'resnet_v2_50/block2/unit_1/bottleneck_v2/conv3/biases/Adam'\n",
      " b'resnet_v2_50/block2/unit_1/bottleneck_v2/conv3/biases/Adam_1'\n",
      " b'resnet_v2_50/block2/unit_2/bottleneck_v2/preact/beta/Adam'\n",
      " b'resnet_v2_50/block2/unit_2/bottleneck_v2/preact/beta/Adam_1'\n",
      " b'resnet_v2_50/block2/unit_2/bottleneck_v2/conv1/weights/Adam'\n",
      " b'resnet_v2_50/block2/unit_2/bottleneck_v2/conv1/weights/Adam_1'\n",
      " b'resnet_v2_50/block2/unit_2/bottleneck_v2/conv1/biases/Adam'\n",
      " b'resnet_v2_50/block2/unit_2/bottleneck_v2/conv1/biases/Adam_1'\n",
      " b'resnet_v2_50/block2/unit_2/bottleneck_v2/conv2/weights/Adam'\n",
      " b'resnet_v2_50/block2/unit_2/bottleneck_v2/conv2/weights/Adam_1'\n",
      " b'resnet_v2_50/block2/unit_2/bottleneck_v2/conv2/biases/Adam'\n",
      " b'resnet_v2_50/block2/unit_2/bottleneck_v2/conv2/biases/Adam_1'\n",
      " b'resnet_v2_50/block2/unit_2/bottleneck_v2/conv3/weights/Adam'\n",
      " b'resnet_v2_50/block2/unit_2/bottleneck_v2/conv3/weights/Adam_1'\n",
      " b'resnet_v2_50/block2/unit_2/bottleneck_v2/conv3/biases/Adam'\n",
      " b'resnet_v2_50/block2/unit_2/bottleneck_v2/conv3/biases/Adam_1'\n",
      " b'resnet_v2_50/block2/unit_3/bottleneck_v2/preact/beta/Adam'\n",
      " b'resnet_v2_50/block2/unit_3/bottleneck_v2/preact/beta/Adam_1'\n",
      " b'resnet_v2_50/block2/unit_3/bottleneck_v2/conv1/weights/Adam'\n",
      " b'resnet_v2_50/block2/unit_3/bottleneck_v2/conv1/weights/Adam_1'\n",
      " b'resnet_v2_50/block2/unit_3/bottleneck_v2/conv1/biases/Adam'\n",
      " b'resnet_v2_50/block2/unit_3/bottleneck_v2/conv1/biases/Adam_1'\n",
      " b'resnet_v2_50/block2/unit_3/bottleneck_v2/conv2/weights/Adam'\n",
      " b'resnet_v2_50/block2/unit_3/bottleneck_v2/conv2/weights/Adam_1'\n",
      " b'resnet_v2_50/block2/unit_3/bottleneck_v2/conv2/biases/Adam'\n",
      " b'resnet_v2_50/block2/unit_3/bottleneck_v2/conv2/biases/Adam_1'\n",
      " b'resnet_v2_50/block2/unit_3/bottleneck_v2/conv3/weights/Adam'\n",
      " b'resnet_v2_50/block2/unit_3/bottleneck_v2/conv3/weights/Adam_1'\n",
      " b'resnet_v2_50/block2/unit_3/bottleneck_v2/conv3/biases/Adam'\n",
      " b'resnet_v2_50/block2/unit_3/bottleneck_v2/conv3/biases/Adam_1'\n",
      " b'resnet_v2_50/block2/unit_4/bottleneck_v2/preact/beta/Adam'\n",
      " b'resnet_v2_50/block2/unit_4/bottleneck_v2/preact/beta/Adam_1'\n",
      " b'resnet_v2_50/block2/unit_4/bottleneck_v2/conv1/weights/Adam'\n",
      " b'resnet_v2_50/block2/unit_4/bottleneck_v2/conv1/weights/Adam_1'\n",
      " b'resnet_v2_50/block2/unit_4/bottleneck_v2/conv1/biases/Adam'\n",
      " b'resnet_v2_50/block2/unit_4/bottleneck_v2/conv1/biases/Adam_1'\n",
      " b'resnet_v2_50/block2/unit_4/bottleneck_v2/conv2/weights/Adam'\n",
      " b'resnet_v2_50/block2/unit_4/bottleneck_v2/conv2/weights/Adam_1'\n",
      " b'resnet_v2_50/block2/unit_4/bottleneck_v2/conv2/biases/Adam'\n",
      " b'resnet_v2_50/block2/unit_4/bottleneck_v2/conv2/biases/Adam_1'\n",
      " b'resnet_v2_50/block2/unit_4/bottleneck_v2/conv3/weights/Adam'\n",
      " b'resnet_v2_50/block2/unit_4/bottleneck_v2/conv3/weights/Adam_1'\n",
      " b'resnet_v2_50/block2/unit_4/bottleneck_v2/conv3/biases/Adam'\n",
      " b'resnet_v2_50/block2/unit_4/bottleneck_v2/conv3/biases/Adam_1'\n",
      " b'resnet_v2_50/block3/unit_1/bottleneck_v2/preact/beta/Adam'\n",
      " b'resnet_v2_50/block3/unit_1/bottleneck_v2/preact/beta/Adam_1'\n",
      " b'resnet_v2_50/block3/unit_1/bottleneck_v2/shortcut/weights/Adam'\n",
      " b'resnet_v2_50/block3/unit_1/bottleneck_v2/shortcut/weights/Adam_1'\n",
      " b'resnet_v2_50/block3/unit_1/bottleneck_v2/shortcut/biases/Adam'\n",
      " b'resnet_v2_50/block3/unit_1/bottleneck_v2/shortcut/biases/Adam_1'\n",
      " b'resnet_v2_50/block3/unit_1/bottleneck_v2/conv1/weights/Adam'\n",
      " b'resnet_v2_50/block3/unit_1/bottleneck_v2/conv1/weights/Adam_1'\n",
      " b'resnet_v2_50/block3/unit_1/bottleneck_v2/conv1/biases/Adam'\n",
      " b'resnet_v2_50/block3/unit_1/bottleneck_v2/conv1/biases/Adam_1'\n",
      " b'resnet_v2_50/block3/unit_1/bottleneck_v2/conv2/weights/Adam'\n",
      " b'resnet_v2_50/block3/unit_1/bottleneck_v2/conv2/weights/Adam_1'\n",
      " b'resnet_v2_50/block3/unit_1/bottleneck_v2/conv2/biases/Adam'\n",
      " b'resnet_v2_50/block3/unit_1/bottleneck_v2/conv2/biases/Adam_1'\n",
      " b'resnet_v2_50/block3/unit_1/bottleneck_v2/conv3/weights/Adam'\n",
      " b'resnet_v2_50/block3/unit_1/bottleneck_v2/conv3/weights/Adam_1'\n",
      " b'resnet_v2_50/block3/unit_1/bottleneck_v2/conv3/biases/Adam'\n",
      " b'resnet_v2_50/block3/unit_1/bottleneck_v2/conv3/biases/Adam_1'\n",
      " b'resnet_v2_50/block3/unit_2/bottleneck_v2/preact/beta/Adam'\n",
      " b'resnet_v2_50/block3/unit_2/bottleneck_v2/preact/beta/Adam_1'\n",
      " b'resnet_v2_50/block3/unit_2/bottleneck_v2/conv1/weights/Adam'\n",
      " b'resnet_v2_50/block3/unit_2/bottleneck_v2/conv1/weights/Adam_1'\n",
      " b'resnet_v2_50/block3/unit_2/bottleneck_v2/conv1/biases/Adam'\n",
      " b'resnet_v2_50/block3/unit_2/bottleneck_v2/conv1/biases/Adam_1'\n",
      " b'resnet_v2_50/block3/unit_2/bottleneck_v2/conv2/weights/Adam'\n",
      " b'resnet_v2_50/block3/unit_2/bottleneck_v2/conv2/weights/Adam_1'\n",
      " b'resnet_v2_50/block3/unit_2/bottleneck_v2/conv2/biases/Adam'\n",
      " b'resnet_v2_50/block3/unit_2/bottleneck_v2/conv2/biases/Adam_1'\n",
      " b'resnet_v2_50/block3/unit_2/bottleneck_v2/conv3/weights/Adam'\n",
      " b'resnet_v2_50/block3/unit_2/bottleneck_v2/conv3/weights/Adam_1'\n",
      " b'resnet_v2_50/block3/unit_2/bottleneck_v2/conv3/biases/Adam'\n",
      " b'resnet_v2_50/block3/unit_2/bottleneck_v2/conv3/biases/Adam_1'\n",
      " b'resnet_v2_50/block3/unit_3/bottleneck_v2/preact/beta/Adam'\n",
      " b'resnet_v2_50/block3/unit_3/bottleneck_v2/preact/beta/Adam_1'\n",
      " b'resnet_v2_50/block3/unit_3/bottleneck_v2/conv1/weights/Adam'\n",
      " b'resnet_v2_50/block3/unit_3/bottleneck_v2/conv1/weights/Adam_1'\n",
      " b'resnet_v2_50/block3/unit_3/bottleneck_v2/conv1/biases/Adam'\n",
      " b'resnet_v2_50/block3/unit_3/bottleneck_v2/conv1/biases/Adam_1'\n",
      " b'resnet_v2_50/block3/unit_3/bottleneck_v2/conv2/weights/Adam'\n",
      " b'resnet_v2_50/block3/unit_3/bottleneck_v2/conv2/weights/Adam_1'\n",
      " b'resnet_v2_50/block3/unit_3/bottleneck_v2/conv2/biases/Adam'\n",
      " b'resnet_v2_50/block3/unit_3/bottleneck_v2/conv2/biases/Adam_1'\n",
      " b'resnet_v2_50/block3/unit_3/bottleneck_v2/conv3/weights/Adam'\n",
      " b'resnet_v2_50/block3/unit_3/bottleneck_v2/conv3/weights/Adam_1'\n",
      " b'resnet_v2_50/block3/unit_3/bottleneck_v2/conv3/biases/Adam'\n",
      " b'resnet_v2_50/block3/unit_3/bottleneck_v2/conv3/biases/Adam_1'\n",
      " b'resnet_v2_50/block3/unit_4/bottleneck_v2/preact/beta/Adam'\n",
      " b'resnet_v2_50/block3/unit_4/bottleneck_v2/preact/beta/Adam_1'\n",
      " b'resnet_v2_50/block3/unit_4/bottleneck_v2/conv1/weights/Adam'\n",
      " b'resnet_v2_50/block3/unit_4/bottleneck_v2/conv1/weights/Adam_1'\n",
      " b'resnet_v2_50/block3/unit_4/bottleneck_v2/conv1/biases/Adam'\n",
      " b'resnet_v2_50/block3/unit_4/bottleneck_v2/conv1/biases/Adam_1'\n",
      " b'resnet_v2_50/block3/unit_4/bottleneck_v2/conv2/weights/Adam'\n",
      " b'resnet_v2_50/block3/unit_4/bottleneck_v2/conv2/weights/Adam_1'\n",
      " b'resnet_v2_50/block3/unit_4/bottleneck_v2/conv2/biases/Adam'\n",
      " b'resnet_v2_50/block3/unit_4/bottleneck_v2/conv2/biases/Adam_1'\n",
      " b'resnet_v2_50/block3/unit_4/bottleneck_v2/conv3/weights/Adam'\n",
      " b'resnet_v2_50/block3/unit_4/bottleneck_v2/conv3/weights/Adam_1'\n",
      " b'resnet_v2_50/block3/unit_4/bottleneck_v2/conv3/biases/Adam'\n",
      " b'resnet_v2_50/block3/unit_4/bottleneck_v2/conv3/biases/Adam_1'\n",
      " b'resnet_v2_50/block3/unit_5/bottleneck_v2/preact/beta/Adam'\n",
      " b'resnet_v2_50/block3/unit_5/bottleneck_v2/preact/beta/Adam_1'\n",
      " b'resnet_v2_50/block3/unit_5/bottleneck_v2/conv1/weights/Adam'\n",
      " b'resnet_v2_50/block3/unit_5/bottleneck_v2/conv1/weights/Adam_1'\n",
      " b'resnet_v2_50/block3/unit_5/bottleneck_v2/conv1/biases/Adam'\n",
      " b'resnet_v2_50/block3/unit_5/bottleneck_v2/conv1/biases/Adam_1'\n",
      " b'resnet_v2_50/block3/unit_5/bottleneck_v2/conv2/weights/Adam'\n",
      " b'resnet_v2_50/block3/unit_5/bottleneck_v2/conv2/weights/Adam_1'\n",
      " b'resnet_v2_50/block3/unit_5/bottleneck_v2/conv2/biases/Adam'\n",
      " b'resnet_v2_50/block3/unit_5/bottleneck_v2/conv2/biases/Adam_1'\n",
      " b'resnet_v2_50/block3/unit_5/bottleneck_v2/conv3/weights/Adam'\n",
      " b'resnet_v2_50/block3/unit_5/bottleneck_v2/conv3/weights/Adam_1'\n",
      " b'resnet_v2_50/block3/unit_5/bottleneck_v2/conv3/biases/Adam'\n",
      " b'resnet_v2_50/block3/unit_5/bottleneck_v2/conv3/biases/Adam_1'\n",
      " b'resnet_v2_50/block3/unit_6/bottleneck_v2/preact/beta/Adam'\n",
      " b'resnet_v2_50/block3/unit_6/bottleneck_v2/preact/beta/Adam_1'\n",
      " b'resnet_v2_50/block3/unit_6/bottleneck_v2/conv1/weights/Adam'\n",
      " b'resnet_v2_50/block3/unit_6/bottleneck_v2/conv1/weights/Adam_1'\n",
      " b'resnet_v2_50/block3/unit_6/bottleneck_v2/conv1/biases/Adam'\n",
      " b'resnet_v2_50/block3/unit_6/bottleneck_v2/conv1/biases/Adam_1'\n",
      " b'resnet_v2_50/block3/unit_6/bottleneck_v2/conv2/weights/Adam'\n",
      " b'resnet_v2_50/block3/unit_6/bottleneck_v2/conv2/weights/Adam_1'\n",
      " b'resnet_v2_50/block3/unit_6/bottleneck_v2/conv2/biases/Adam'\n",
      " b'resnet_v2_50/block3/unit_6/bottleneck_v2/conv2/biases/Adam_1'\n",
      " b'resnet_v2_50/block3/unit_6/bottleneck_v2/conv3/weights/Adam'\n",
      " b'resnet_v2_50/block3/unit_6/bottleneck_v2/conv3/weights/Adam_1'\n",
      " b'resnet_v2_50/block3/unit_6/bottleneck_v2/conv3/biases/Adam'\n",
      " b'resnet_v2_50/block3/unit_6/bottleneck_v2/conv3/biases/Adam_1'\n",
      " b'resnet_v2_50/block4/unit_1/bottleneck_v2/preact/beta/Adam'\n",
      " b'resnet_v2_50/block4/unit_1/bottleneck_v2/preact/beta/Adam_1'\n",
      " b'resnet_v2_50/block4/unit_1/bottleneck_v2/shortcut/weights/Adam'\n",
      " b'resnet_v2_50/block4/unit_1/bottleneck_v2/shortcut/weights/Adam_1'\n",
      " b'resnet_v2_50/block4/unit_1/bottleneck_v2/shortcut/biases/Adam'\n",
      " b'resnet_v2_50/block4/unit_1/bottleneck_v2/shortcut/biases/Adam_1'\n",
      " b'resnet_v2_50/block4/unit_1/bottleneck_v2/conv1/weights/Adam'\n",
      " b'resnet_v2_50/block4/unit_1/bottleneck_v2/conv1/weights/Adam_1'\n",
      " b'resnet_v2_50/block4/unit_1/bottleneck_v2/conv1/biases/Adam'\n",
      " b'resnet_v2_50/block4/unit_1/bottleneck_v2/conv1/biases/Adam_1'\n",
      " b'resnet_v2_50/block4/unit_1/bottleneck_v2/conv2/weights/Adam'\n",
      " b'resnet_v2_50/block4/unit_1/bottleneck_v2/conv2/weights/Adam_1'\n",
      " b'resnet_v2_50/block4/unit_1/bottleneck_v2/conv2/biases/Adam'\n",
      " b'resnet_v2_50/block4/unit_1/bottleneck_v2/conv2/biases/Adam_1'\n",
      " b'resnet_v2_50/block4/unit_1/bottleneck_v2/conv3/weights/Adam'\n",
      " b'resnet_v2_50/block4/unit_1/bottleneck_v2/conv3/weights/Adam_1'\n",
      " b'resnet_v2_50/block4/unit_1/bottleneck_v2/conv3/biases/Adam'\n",
      " b'resnet_v2_50/block4/unit_1/bottleneck_v2/conv3/biases/Adam_1'\n",
      " b'resnet_v2_50/block4/unit_2/bottleneck_v2/preact/beta/Adam'\n",
      " b'resnet_v2_50/block4/unit_2/bottleneck_v2/preact/beta/Adam_1'\n",
      " b'resnet_v2_50/block4/unit_2/bottleneck_v2/conv1/weights/Adam'\n",
      " b'resnet_v2_50/block4/unit_2/bottleneck_v2/conv1/weights/Adam_1'\n",
      " b'resnet_v2_50/block4/unit_2/bottleneck_v2/conv1/biases/Adam'\n",
      " b'resnet_v2_50/block4/unit_2/bottleneck_v2/conv1/biases/Adam_1'\n",
      " b'resnet_v2_50/block4/unit_2/bottleneck_v2/conv2/weights/Adam'\n",
      " b'resnet_v2_50/block4/unit_2/bottleneck_v2/conv2/weights/Adam_1'\n",
      " b'resnet_v2_50/block4/unit_2/bottleneck_v2/conv2/biases/Adam'\n",
      " b'resnet_v2_50/block4/unit_2/bottleneck_v2/conv2/biases/Adam_1'\n",
      " b'resnet_v2_50/block4/unit_2/bottleneck_v2/conv3/weights/Adam'\n",
      " b'resnet_v2_50/block4/unit_2/bottleneck_v2/conv3/weights/Adam_1'\n",
      " b'resnet_v2_50/block4/unit_2/bottleneck_v2/conv3/biases/Adam'\n",
      " b'resnet_v2_50/block4/unit_2/bottleneck_v2/conv3/biases/Adam_1'\n",
      " b'resnet_v2_50/block4/unit_3/bottleneck_v2/preact/beta/Adam'\n",
      " b'resnet_v2_50/block4/unit_3/bottleneck_v2/preact/beta/Adam_1'\n",
      " b'resnet_v2_50/block4/unit_3/bottleneck_v2/conv1/weights/Adam'\n",
      " b'resnet_v2_50/block4/unit_3/bottleneck_v2/conv1/weights/Adam_1'\n",
      " b'resnet_v2_50/block4/unit_3/bottleneck_v2/conv1/biases/Adam'\n",
      " b'resnet_v2_50/block4/unit_3/bottleneck_v2/conv1/biases/Adam_1'\n",
      " b'resnet_v2_50/block4/unit_3/bottleneck_v2/conv2/weights/Adam'\n",
      " b'resnet_v2_50/block4/unit_3/bottleneck_v2/conv2/weights/Adam_1'\n",
      " b'resnet_v2_50/block4/unit_3/bottleneck_v2/conv2/biases/Adam'\n",
      " b'resnet_v2_50/block4/unit_3/bottleneck_v2/conv2/biases/Adam_1'\n",
      " b'resnet_v2_50/block4/unit_3/bottleneck_v2/conv3/weights/Adam'\n",
      " b'resnet_v2_50/block4/unit_3/bottleneck_v2/conv3/weights/Adam_1'\n",
      " b'resnet_v2_50/block4/unit_3/bottleneck_v2/conv3/biases/Adam'\n",
      " b'resnet_v2_50/block4/unit_3/bottleneck_v2/conv3/biases/Adam_1'\n",
      " b'resnet_v2_50/postnorm/beta/Adam' b'resnet_v2_50/postnorm/beta/Adam_1'\n",
      " b'fc_weights1/Adam' b'fc_weights1/Adam_1' b'Variable/Adam'\n",
      " b'Variable/Adam_1']\n"
     ]
    },
    {
     "name": "stdout",
     "output_type": "stream",
     "text": [
      "0  cost 3.08577e+06\n",
      "1000  cost 907854.0\n",
      "2000  cost 68693.4\n",
      "3000  cost 562772.0\n",
      "4000  cost 2.86561e+06\n",
      "5000  cost 43273.7\n",
      "6000  cost 2.16196e+06\n",
      "7000  cost 194201.0\n",
      "8000  cost 113828.0\n",
      "9000  cost 1.48253e+06\n",
      "10000  cost 52732.5\n",
      "11000  cost 156136.0\n",
      "12000  cost 177700.0\n"
     ]
    }
   ],
   "source": [
    "train_labeled(cnn, X[:1000], y[:1000], X_ph, y_ph, sess, batch_size=10, lr=.01)"
   ]
  },
  {
   "cell_type": "code",
   "execution_count": 7,
   "metadata": {
    "collapsed": true
   },
   "outputs": [],
   "source": [
    "tf.reset_default_graph()\n",
    "\n",
    "X_ph = tf.placeholder('float', [None, 8, 8, 6], name='input_x')\n",
    "y_ph = tf.placeholder('float', [None, 1], name='input_y')\n",
    "sess = tf.Session(config=tf.ConfigProto(log_device_placement=True))\n",
    "\n",
    "cnn = create_cnn(X_ph, y_ph, [50, 'pool', 50], 1024, sess)"
   ]
  },
  {
   "cell_type": "code",
   "execution_count": 8,
   "metadata": {
    "scrolled": true
   },
   "outputs": [
    {
     "name": "stdout",
     "output_type": "stream",
     "text": [
      "[b'conv_layer_0/batch_normalization/beta'\n",
      " b'conv_layer_0/batch_normalization/gamma'\n",
      " b'conv_layer_0/batch_normalization/moving_mean'\n",
      " b'conv_layer_0/batch_normalization/moving_variance'\n",
      " b'conv_layer_2/batch_normalization/beta'\n",
      " b'conv_layer_2/batch_normalization/gamma'\n",
      " b'conv_layer_2/batch_normalization/moving_mean'\n",
      " b'conv_layer_2/batch_normalization/moving_variance' b'beta1_power'\n",
      " b'beta2_power' b'conv_layer_0/filters/Adam' b'conv_layer_0/filters/Adam_1'\n",
      " b'conv_layer_0/Variable/Adam' b'conv_layer_0/Variable/Adam_1'\n",
      " b'conv_layer_0/batch_normalization/beta/Adam'\n",
      " b'conv_layer_0/batch_normalization/beta/Adam_1'\n",
      " b'conv_layer_0/batch_normalization/gamma/Adam'\n",
      " b'conv_layer_0/batch_normalization/gamma/Adam_1'\n",
      " b'conv_layer_2/filters/Adam' b'conv_layer_2/filters/Adam_1'\n",
      " b'conv_layer_2/Variable/Adam' b'conv_layer_2/Variable/Adam_1'\n",
      " b'conv_layer_2/batch_normalization/beta/Adam'\n",
      " b'conv_layer_2/batch_normalization/beta/Adam_1'\n",
      " b'conv_layer_2/batch_normalization/gamma/Adam'\n",
      " b'conv_layer_2/batch_normalization/gamma/Adam_1' b'fc_weights1/Adam'\n",
      " b'fc_weights1/Adam_1' b'Variable/Adam' b'Variable/Adam_1'\n",
      " b'fc_weights2/Adam' b'fc_weights2/Adam_1' b'Variable_1/Adam'\n",
      " b'Variable_1/Adam_1']\n",
      "0  cost 2.31098e+06\n",
      "1000  cost 196715.0\n",
      "2000  cost 5655.11\n",
      "3000  cost 1234.13\n",
      "4000  cost 9471.85\n",
      "5000  cost 4314.48\n",
      "6000  cost 1962.19\n",
      "7000  cost 5885.66\n",
      "8000  cost 2442.98\n",
      "9000  cost 12257.4\n",
      "10000  cost 1275.71\n",
      "11000  cost 2312.41\n",
      "12000  cost 756.792\n",
      "13000  cost 2573.93\n",
      "14000  cost 950.463\n",
      "15000  cost 1439.98\n",
      "16000  cost 2767.77\n",
      "17000  cost 2677.04\n",
      "18000  cost 14554.4\n",
      "19000  cost 1354.29\n"
     ]
    }
   ],
   "source": [
    "train_labeled(cnn, X[:1000], y[:1000], X_ph, y_ph, sess, batch_size=10, lr=.01)"
   ]
  },
  {
   "cell_type": "code",
   "execution_count": null,
   "metadata": {
    "collapsed": true
   },
   "outputs": [],
   "source": [
    "np.sum(np.square(y[:10] - 5))"
   ]
  },
  {
   "cell_type": "code",
   "execution_count": null,
   "metadata": {
    "collapsed": true
   },
   "outputs": [],
   "source": [
    "np.mean(X)"
   ]
  },
  {
   "cell_type": "markdown",
   "metadata": {},
   "source": [
    "## First experiment: fully connected autoencoder"
   ]
  },
  {
   "cell_type": "code",
   "execution_count": null,
   "metadata": {
    "collapsed": true
   },
   "outputs": [],
   "source": [
    "sess = tf.Session(config=tf.ConfigProto(log_device_placement=True))"
   ]
  },
  {
   "cell_type": "code",
   "execution_count": null,
   "metadata": {
    "collapsed": true
   },
   "outputs": [],
   "source": [
    "flat_input_ph = tf.placeholder(\"float\", [None, 8 * 8 * 6])\n",
    "fc_autoencoder1 = create_fully_connected(flat_input_ph, [60, 30, 20], sess)"
   ]
  },
  {
   "cell_type": "code",
   "execution_count": null,
   "metadata": {
    "collapsed": true
   },
   "outputs": [],
   "source": [
    "# writer = tf.summary.FileWriter('./logs/', graph=tf.get_default_graph())"
   ]
  },
  {
   "cell_type": "code",
   "execution_count": null,
   "metadata": {
    "collapsed": true
   },
   "outputs": [],
   "source": [
    "train(fc_autoencoder1, X_train, True, flat_input_ph, sess, num_iters=2000)"
   ]
  },
  {
   "cell_type": "code",
   "execution_count": null,
   "metadata": {
    "collapsed": true
   },
   "outputs": [],
   "source": [
    "decodedLong = sess.run(fc_autoencoder1['decoded'], feed_dict={flat_input_ph: np.reshape(X_eval, (X_eval.shape[0], -1))})\n",
    "\n",
    "decoded = np.reshape(decodedLong, (X_eval.shape[0], 8, 8, 6))"
   ]
  },
  {
   "cell_type": "code",
   "execution_count": null,
   "metadata": {
    "collapsed": true
   },
   "outputs": [],
   "source": [
    "np.sum(quantize_arr_vec(decoded) != X_eval) / decoded.size"
   ]
  },
  {
   "cell_type": "code",
   "execution_count": null,
   "metadata": {
    "collapsed": true
   },
   "outputs": [],
   "source": [
    "arr_to_board(decoded[40])\n",
    "arr_to_board(X_eval[40])"
   ]
  },
  {
   "cell_type": "markdown",
   "metadata": {},
   "source": [
    "## Overfit on a tiny training set"
   ]
  },
  {
   "cell_type": "code",
   "execution_count": null,
   "metadata": {
    "collapsed": true
   },
   "outputs": [],
   "source": [
    "small_inds = np.random.choice(X.shape[0], 10)\n",
    "X_small = X[small_inds]"
   ]
  },
  {
   "cell_type": "code",
   "execution_count": null,
   "metadata": {
    "collapsed": true
   },
   "outputs": [],
   "source": [
    "flat_input_ph = tf.placeholder(\"float\", [None, 8 * 8 * 6])\n",
    "# conv_ae = create_cae(input_ph, [], 400)\n",
    "fc_autoencoder1 = create_fully_connected(flat_input_ph, [60, 30, 20], sess)"
   ]
  },
  {
   "cell_type": "code",
   "execution_count": null,
   "metadata": {
    "collapsed": true
   },
   "outputs": [],
   "source": [
    "train(fc_autoencoder1, X_small, True, flat_input_ph, sess, num_iters=10000, lr=.001, batch_size=10)"
   ]
  },
  {
   "cell_type": "code",
   "execution_count": null,
   "metadata": {
    "collapsed": true
   },
   "outputs": [],
   "source": [
    "arr_to_board(X_small[0])\n",
    "arr_to_board(np.reshape(sess.run(fc_autoencoder1['decoded'],\n",
    "                                 feed_dict={flat_input_ph: np.reshape(X_small, (1, -1))})[0], (8, 8, 6)))"
   ]
  },
  {
   "cell_type": "markdown",
   "metadata": {},
   "source": [
    "## Now a simple conv net"
   ]
  },
  {
   "cell_type": "code",
   "execution_count": null,
   "metadata": {
    "collapsed": true,
    "scrolled": false
   },
   "outputs": [],
   "source": [
    "input_ph = tf.placeholder(\"float\", [None, 8, 8, 6])\n",
    "conv_ae = create_cae(input_ph, [50, 50, 'pool', 50], 40)"
   ]
  },
  {
   "cell_type": "code",
   "execution_count": null,
   "metadata": {
    "collapsed": true
   },
   "outputs": [],
   "source": [
    "train(conv_ae, X_train, False, input_ph, sess, num_iters=10000, lr=.001)"
   ]
  },
  {
   "cell_type": "code",
   "execution_count": null,
   "metadata": {
    "collapsed": true
   },
   "outputs": [],
   "source": [
    "decoded = sess.run(conv_ae['decoded'], feed_dict={input_ph: X_eval})"
   ]
  },
  {
   "cell_type": "code",
   "execution_count": null,
   "metadata": {
    "collapsed": true
   },
   "outputs": [],
   "source": [
    "np.sum(quantize_arr_vec(decoded) != X_eval) / decoded.size"
   ]
  },
  {
   "cell_type": "code",
   "execution_count": null,
   "metadata": {
    "collapsed": true,
    "scrolled": false
   },
   "outputs": [],
   "source": [
    "arr_to_board(X_eval[52])\n",
    "arr_to_board(decoded[52])"
   ]
  },
  {
   "cell_type": "code",
   "execution_count": null,
   "metadata": {
    "collapsed": true
   },
   "outputs": [],
   "source": [
    "train_decoded = sess.run(conv_ae['decoded'], feed_dict={input_ph: X_train})"
   ]
  },
  {
   "cell_type": "code",
   "execution_count": null,
   "metadata": {
    "collapsed": true
   },
   "outputs": [],
   "source": [
    "np.sum(train_decoded > .5)"
   ]
  },
  {
   "cell_type": "code",
   "execution_count": null,
   "metadata": {
    "collapsed": true
   },
   "outputs": [],
   "source": [
    "np.sum(X_train > .5)"
   ]
  },
  {
   "cell_type": "code",
   "execution_count": null,
   "metadata": {
    "collapsed": true
   },
   "outputs": [],
   "source": [
    "np.sum(decoded > .5)"
   ]
  },
  {
   "cell_type": "markdown",
   "metadata": {},
   "source": [
    "# Come back to this later"
   ]
  },
  {
   "cell_type": "code",
   "execution_count": null,
   "metadata": {
    "collapsed": true
   },
   "outputs": [],
   "source": [
    "neuron = autoencoder['encoded'][0][5]\n",
    "neuron_grad = tf.gradients(neuron, x)\n",
    "\n",
    "# board = np.zeros((8,8,6))\n",
    "board = np.random.normal(size=(8,8,6), scale=.1)\n",
    "print(sess.run(neuron, feed_dict={x: np.reshape(board, (1, -1))}))\n",
    "\n",
    "for i in range(10000):\n",
    "    grad = sess.run(neuron_grad, feed_dict={x: np.reshape(board, (1, -1))})[0]\n",
    "    grad = np.reshape(grad, (8,8,6))\n",
    "    board += 1e-3 * grad\n",
    "    board[board > 1] = 1\n",
    "    board[board < -1] = -1\n",
    "    \n",
    "    if i % 1000 == 0:\n",
    "        print(sess.run(neuron, feed_dict={x: np.reshape(board, (1, -1))}))"
   ]
  },
  {
   "cell_type": "code",
   "execution_count": null,
   "metadata": {
    "collapsed": true
   },
   "outputs": [],
   "source": [
    "arr_to_board(board)"
   ]
  },
  {
   "cell_type": "code",
   "execution_count": null,
   "metadata": {
    "collapsed": true
   },
   "outputs": [],
   "source": [
    "board"
   ]
  },
  {
   "cell_type": "code",
   "execution_count": null,
   "metadata": {
    "collapsed": true
   },
   "outputs": [],
   "source": []
  }
 ],
 "metadata": {
  "kernelspec": {
   "display_name": "Python 3",
   "language": "python",
   "name": "python3"
  },
  "language_info": {
   "codemirror_mode": {
    "name": "ipython",
    "version": 3
   },
   "file_extension": ".py",
   "mimetype": "text/x-python",
   "name": "python",
   "nbconvert_exporter": "python",
   "pygments_lexer": "ipython3",
   "version": "3.6.1"
  }
 },
 "nbformat": 4,
 "nbformat_minor": 2
}
