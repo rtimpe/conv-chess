{
 "cells": [
  {
   "cell_type": "markdown",
   "metadata": {},
   "source": [
    "My goal is to create a chess engine based on convolutional neural nets and reinforcement learning.  But first I will try to answer the question \"can convnets learn useful features to represent chess positions\".  In this notebook, I will train autoencoders on chess positions and attempt to find neurons that have learned semantically meaningful features."
   ]
  },
  {
   "cell_type": "code",
   "execution_count": 1,
   "metadata": {
    "collapsed": true
   },
   "outputs": [],
   "source": [
    "# for auto-reloading extenrnal modules\n",
    "# see http://stackoverflow.com/questions/1907993/autoreload-of-modules-in-ipython\n",
    "%load_ext autoreload\n",
    "%autoreload 2"
   ]
  },
  {
   "cell_type": "code",
   "execution_count": 2,
   "metadata": {
    "collapsed": true
   },
   "outputs": [],
   "source": [
    "%matplotlib notebook"
   ]
  },
  {
   "cell_type": "code",
   "execution_count": 3,
   "metadata": {
    "collapsed": true
   },
   "outputs": [],
   "source": [
    "# make variables display whenever they are on their own line (not just the last line of a cell)\n",
    "from IPython.core.interactiveshell import InteractiveShell\n",
    "InteractiveShell.ast_node_interactivity = \"all\""
   ]
  },
  {
   "cell_type": "code",
   "execution_count": 4,
   "metadata": {
    "collapsed": true
   },
   "outputs": [],
   "source": [
    "import chess\n",
    "import chess.pgn\n",
    "import math\n",
    "import pystockfish\n",
    "import json\n",
    "\n",
    "import numpy as np\n",
    "import tensorflow as tf\n",
    "import matplotlib.pyplot as plt\n",
    "\n",
    "from utils import *"
   ]
  },
  {
   "cell_type": "markdown",
   "metadata": {},
   "source": [
    "# Load data"
   ]
  },
  {
   "cell_type": "code",
   "execution_count": 5,
   "metadata": {
    "collapsed": true
   },
   "outputs": [],
   "source": [
    "board_fens = load_boards_from_pgnf('data/ficsgamesdb_201701_chess_nomovetimes_1500955.pgn', num_games=200)"
   ]
  },
  {
   "cell_type": "code",
   "execution_count": null,
   "metadata": {
    "collapsed": true
   },
   "outputs": [],
   "source": [
    "X = fens_to_arrs(board_fens)\n",
    "eval_inds = np.random.choice(X.shape[0], 1000)\n",
    "\n",
    "X_train = X[~eval_inds]\n",
    "X_eval = X[eval_inds]"
   ]
  },
  {
   "cell_type": "code",
   "execution_count": null,
   "metadata": {
    "collapsed": true
   },
   "outputs": [],
   "source": [
    "scored = score_fens(board_fens)"
   ]
  },
  {
   "cell_type": "code",
   "execution_count": null,
   "metadata": {
    "collapsed": true
   },
   "outputs": [],
   "source": [
    "with open('data.json', 'w') as fp:\n",
    "    json.dump(scored, fp)"
   ]
  },
  {
   "cell_type": "code",
   "execution_count": 6,
   "metadata": {
    "collapsed": true
   },
   "outputs": [],
   "source": [
    "with open('data/data.json') as fp:\n",
    "    data = json.load(fp)\n",
    "\n",
    "X, y = convert_and_normalize(data)"
   ]
  },
  {
   "cell_type": "code",
   "execution_count": 33,
   "metadata": {
    "collapsed": true
   },
   "outputs": [],
   "source": [
    "eval_inds = np.random.choice(X.shape[0], 1000)\n",
    "\n",
    "X_train, y_train = X[~eval_inds], y[~eval_inds]\n",
    "X_eval, y_eval = X[eval_inds], y[eval_inds]"
   ]
  },
  {
   "cell_type": "markdown",
   "metadata": {},
   "source": [
    "# Regression"
   ]
  },
  {
   "cell_type": "code",
   "execution_count": null,
   "metadata": {
    "collapsed": true
   },
   "outputs": [],
   "source": [
    "tf.reset_default_graph()\n",
    "\n",
    "X_ph = tf.placeholder('float', [None, 8, 8, 6], name='input_x')\n",
    "y_ph = tf.placeholder('float', [None, 1], name='input_y')\n",
    "sess = tf.Session(config=tf.ConfigProto(log_device_placement=True))\n",
    "\n",
    "cnn = make_resnet(X_ph, y_ph, sess)"
   ]
  },
  {
   "cell_type": "code",
   "execution_count": null,
   "metadata": {},
   "outputs": [],
   "source": [
    "train_labeled(cnn, X[:1000], y[:1000], X_ph, y_ph, sess, batch_size=10, lr=.01)"
   ]
  },
  {
   "cell_type": "code",
   "execution_count": 50,
   "metadata": {},
   "outputs": [],
   "source": [
    "tf.reset_default_graph()\n",
    "\n",
    "X_ph = tf.placeholder('float', [None, 8, 8, 6], name='input_x')\n",
    "y_ph = tf.placeholder('float', [None, 1], name='input_y')\n",
    "sess = tf.Session(config=tf.ConfigProto(log_device_placement=True))\n",
    "\n",
    "cnn = create_cnn(X_ph, y_ph, [50], 1024, sess)"
   ]
  },
  {
   "cell_type": "code",
   "execution_count": 54,
   "metadata": {
    "scrolled": true
   },
   "outputs": [
    {
     "name": "stdout",
     "output_type": "stream",
     "text": [
      "[b'beta1_power_1' b'beta2_power_1' b'conv_layer_0/filters/Adam_2'\n",
      " b'conv_layer_0/filters/Adam_3' b'conv_layer_0/Variable/Adam_2'\n",
      " b'conv_layer_0/Variable/Adam_3'\n",
      " b'conv_layer_0/batch_normalization/beta/Adam_2'\n",
      " b'conv_layer_0/batch_normalization/beta/Adam_3'\n",
      " b'conv_layer_0/batch_normalization/gamma/Adam_2'\n",
      " b'conv_layer_0/batch_normalization/gamma/Adam_3' b'fc_weights1/Adam_2'\n",
      " b'fc_weights1/Adam_3' b'Variable/Adam_2' b'Variable/Adam_3'\n",
      " b'fc_weights2/Adam_2' b'fc_weights2/Adam_3' b'Variable_1/Adam_2'\n",
      " b'Variable_1/Adam_3']\n",
      "0  cost 88976.2\n",
      "eval cost 518556.0\n",
      "1000  cost 98603.4\n",
      "eval cost 480775.0\n",
      "2000  cost 86070.1\n",
      "eval cost 454201.0\n",
      "3000  cost 88206.2\n",
      "eval cost 483673.0\n",
      "4000  cost 9033.24\n",
      "eval cost 496003.0\n",
      "5000  cost 2907.86\n",
      "eval cost 501394.0\n",
      "6000  cost 2621.46\n",
      "eval cost 505446.0\n",
      "7000  cost 262.019\n",
      "eval cost 505794.0\n",
      "8000  cost 2098.4\n",
      "eval cost 504326.0\n",
      "9000  cost 242.75\n",
      "eval cost 505873.0\n",
      "10000  cost 405.782\n",
      "eval cost 504004.0\n",
      "11000  cost 240.498\n",
      "eval cost 505984.0\n",
      "12000  cost 238.875\n",
      "eval cost 505181.0\n",
      "13000  cost 1801.51\n",
      "eval cost 505764.0\n",
      "14000  cost 70.076\n",
      "eval cost 504994.0\n",
      "15000  cost 101.21\n",
      "eval cost 505428.0\n",
      "16000  cost 242.582\n",
      "eval cost 504790.0\n",
      "17000  cost 65.5944\n",
      "eval cost 506375.0\n",
      "18000  cost 129.626\n",
      "eval cost 504831.0\n",
      "19000  cost 171.912\n",
      "eval cost 507638.0\n"
     ]
    }
   ],
   "source": [
    "train_labeled(cnn, X_train, y_train, X_ph, y_ph, sess, X_eval=X_eval, y_eval=y_eval, batch_size=32, lr=.0001)"
   ]
  },
  {
   "cell_type": "code",
   "execution_count": 46,
   "metadata": {},
   "outputs": [
    {
     "data": {
      "text/plain": [
       "(1000, 1)"
      ]
     },
     "execution_count": 46,
     "metadata": {},
     "output_type": "execute_result"
    },
    {
     "data": {
      "text/plain": [
       "541300.5"
      ]
     },
     "execution_count": 46,
     "metadata": {},
     "output_type": "execute_result"
    }
   ],
   "source": [
    "sess.run(cnn['cost'], feed_dict={X_ph: X_eval, y_ph: y_eval[:, np.newaxis]})"
   ]
  },
  {
   "cell_type": "code",
   "execution_count": 52,
   "metadata": {},
   "outputs": [
    {
     "data": {
      "text/plain": [
       "(1000,)"
      ]
     },
     "execution_count": 52,
     "metadata": {},
     "output_type": "execute_result"
    },
    {
     "data": {
      "text/plain": [
       "(1000,)"
      ]
     },
     "execution_count": 52,
     "metadata": {},
     "output_type": "execute_result"
    }
   ],
   "source": [
    "y_train.shape\n",
    "y_eval.shape"
   ]
  },
  {
   "cell_type": "code",
   "execution_count": 53,
   "metadata": {},
   "outputs": [
    {
     "data": {
      "text/plain": [
       "12757"
      ]
     },
     "execution_count": 53,
     "metadata": {},
     "output_type": "execute_result"
    }
   ],
   "source": [
    "np.sum(np.square(y[:10] - 5))"
   ]
  },
  {
   "cell_type": "code",
   "execution_count": null,
   "metadata": {
    "collapsed": true
   },
   "outputs": [],
   "source": [
    "np.mean(X)"
   ]
  },
  {
   "cell_type": "code",
   "execution_count": 14,
   "metadata": {},
   "outputs": [],
   "source": [
    "filters = sess.run(tf.get_default_graph().get_tensor_by_name('conv_layer_0/filters:0'))"
   ]
  },
  {
   "cell_type": "code",
   "execution_count": 31,
   "metadata": {},
   "outputs": [
    {
     "data": {
      "application/javascript": [
       "/* Put everything inside the global mpl namespace */\n",
       "window.mpl = {};\n",
       "\n",
       "\n",
       "mpl.get_websocket_type = function() {\n",
       "    if (typeof(WebSocket) !== 'undefined') {\n",
       "        return WebSocket;\n",
       "    } else if (typeof(MozWebSocket) !== 'undefined') {\n",
       "        return MozWebSocket;\n",
       "    } else {\n",
       "        alert('Your browser does not have WebSocket support.' +\n",
       "              'Please try Chrome, Safari or Firefox ≥ 6. ' +\n",
       "              'Firefox 4 and 5 are also supported but you ' +\n",
       "              'have to enable WebSockets in about:config.');\n",
       "    };\n",
       "}\n",
       "\n",
       "mpl.figure = function(figure_id, websocket, ondownload, parent_element) {\n",
       "    this.id = figure_id;\n",
       "\n",
       "    this.ws = websocket;\n",
       "\n",
       "    this.supports_binary = (this.ws.binaryType != undefined);\n",
       "\n",
       "    if (!this.supports_binary) {\n",
       "        var warnings = document.getElementById(\"mpl-warnings\");\n",
       "        if (warnings) {\n",
       "            warnings.style.display = 'block';\n",
       "            warnings.textContent = (\n",
       "                \"This browser does not support binary websocket messages. \" +\n",
       "                    \"Performance may be slow.\");\n",
       "        }\n",
       "    }\n",
       "\n",
       "    this.imageObj = new Image();\n",
       "\n",
       "    this.context = undefined;\n",
       "    this.message = undefined;\n",
       "    this.canvas = undefined;\n",
       "    this.rubberband_canvas = undefined;\n",
       "    this.rubberband_context = undefined;\n",
       "    this.format_dropdown = undefined;\n",
       "\n",
       "    this.image_mode = 'full';\n",
       "\n",
       "    this.root = $('<div/>');\n",
       "    this._root_extra_style(this.root)\n",
       "    this.root.attr('style', 'display: inline-block');\n",
       "\n",
       "    $(parent_element).append(this.root);\n",
       "\n",
       "    this._init_header(this);\n",
       "    this._init_canvas(this);\n",
       "    this._init_toolbar(this);\n",
       "\n",
       "    var fig = this;\n",
       "\n",
       "    this.waiting = false;\n",
       "\n",
       "    this.ws.onopen =  function () {\n",
       "            fig.send_message(\"supports_binary\", {value: fig.supports_binary});\n",
       "            fig.send_message(\"send_image_mode\", {});\n",
       "            if (mpl.ratio != 1) {\n",
       "                fig.send_message(\"set_dpi_ratio\", {'dpi_ratio': mpl.ratio});\n",
       "            }\n",
       "            fig.send_message(\"refresh\", {});\n",
       "        }\n",
       "\n",
       "    this.imageObj.onload = function() {\n",
       "            if (fig.image_mode == 'full') {\n",
       "                // Full images could contain transparency (where diff images\n",
       "                // almost always do), so we need to clear the canvas so that\n",
       "                // there is no ghosting.\n",
       "                fig.context.clearRect(0, 0, fig.canvas.width, fig.canvas.height);\n",
       "            }\n",
       "            fig.context.drawImage(fig.imageObj, 0, 0);\n",
       "        };\n",
       "\n",
       "    this.imageObj.onunload = function() {\n",
       "        this.ws.close();\n",
       "    }\n",
       "\n",
       "    this.ws.onmessage = this._make_on_message_function(this);\n",
       "\n",
       "    this.ondownload = ondownload;\n",
       "}\n",
       "\n",
       "mpl.figure.prototype._init_header = function() {\n",
       "    var titlebar = $(\n",
       "        '<div class=\"ui-dialog-titlebar ui-widget-header ui-corner-all ' +\n",
       "        'ui-helper-clearfix\"/>');\n",
       "    var titletext = $(\n",
       "        '<div class=\"ui-dialog-title\" style=\"width: 100%; ' +\n",
       "        'text-align: center; padding: 3px;\"/>');\n",
       "    titlebar.append(titletext)\n",
       "    this.root.append(titlebar);\n",
       "    this.header = titletext[0];\n",
       "}\n",
       "\n",
       "\n",
       "\n",
       "mpl.figure.prototype._canvas_extra_style = function(canvas_div) {\n",
       "\n",
       "}\n",
       "\n",
       "\n",
       "mpl.figure.prototype._root_extra_style = function(canvas_div) {\n",
       "\n",
       "}\n",
       "\n",
       "mpl.figure.prototype._init_canvas = function() {\n",
       "    var fig = this;\n",
       "\n",
       "    var canvas_div = $('<div/>');\n",
       "\n",
       "    canvas_div.attr('style', 'position: relative; clear: both; outline: 0');\n",
       "\n",
       "    function canvas_keyboard_event(event) {\n",
       "        return fig.key_event(event, event['data']);\n",
       "    }\n",
       "\n",
       "    canvas_div.keydown('key_press', canvas_keyboard_event);\n",
       "    canvas_div.keyup('key_release', canvas_keyboard_event);\n",
       "    this.canvas_div = canvas_div\n",
       "    this._canvas_extra_style(canvas_div)\n",
       "    this.root.append(canvas_div);\n",
       "\n",
       "    var canvas = $('<canvas/>');\n",
       "    canvas.addClass('mpl-canvas');\n",
       "    canvas.attr('style', \"left: 0; top: 0; z-index: 0; outline: 0\")\n",
       "\n",
       "    this.canvas = canvas[0];\n",
       "    this.context = canvas[0].getContext(\"2d\");\n",
       "\n",
       "    var backingStore = this.context.backingStorePixelRatio ||\n",
       "\tthis.context.webkitBackingStorePixelRatio ||\n",
       "\tthis.context.mozBackingStorePixelRatio ||\n",
       "\tthis.context.msBackingStorePixelRatio ||\n",
       "\tthis.context.oBackingStorePixelRatio ||\n",
       "\tthis.context.backingStorePixelRatio || 1;\n",
       "\n",
       "    mpl.ratio = (window.devicePixelRatio || 1) / backingStore;\n",
       "\n",
       "    var rubberband = $('<canvas/>');\n",
       "    rubberband.attr('style', \"position: absolute; left: 0; top: 0; z-index: 1;\")\n",
       "\n",
       "    var pass_mouse_events = true;\n",
       "\n",
       "    canvas_div.resizable({\n",
       "        start: function(event, ui) {\n",
       "            pass_mouse_events = false;\n",
       "        },\n",
       "        resize: function(event, ui) {\n",
       "            fig.request_resize(ui.size.width, ui.size.height);\n",
       "        },\n",
       "        stop: function(event, ui) {\n",
       "            pass_mouse_events = true;\n",
       "            fig.request_resize(ui.size.width, ui.size.height);\n",
       "        },\n",
       "    });\n",
       "\n",
       "    function mouse_event_fn(event) {\n",
       "        if (pass_mouse_events)\n",
       "            return fig.mouse_event(event, event['data']);\n",
       "    }\n",
       "\n",
       "    rubberband.mousedown('button_press', mouse_event_fn);\n",
       "    rubberband.mouseup('button_release', mouse_event_fn);\n",
       "    // Throttle sequential mouse events to 1 every 20ms.\n",
       "    rubberband.mousemove('motion_notify', mouse_event_fn);\n",
       "\n",
       "    rubberband.mouseenter('figure_enter', mouse_event_fn);\n",
       "    rubberband.mouseleave('figure_leave', mouse_event_fn);\n",
       "\n",
       "    canvas_div.on(\"wheel\", function (event) {\n",
       "        event = event.originalEvent;\n",
       "        event['data'] = 'scroll'\n",
       "        if (event.deltaY < 0) {\n",
       "            event.step = 1;\n",
       "        } else {\n",
       "            event.step = -1;\n",
       "        }\n",
       "        mouse_event_fn(event);\n",
       "    });\n",
       "\n",
       "    canvas_div.append(canvas);\n",
       "    canvas_div.append(rubberband);\n",
       "\n",
       "    this.rubberband = rubberband;\n",
       "    this.rubberband_canvas = rubberband[0];\n",
       "    this.rubberband_context = rubberband[0].getContext(\"2d\");\n",
       "    this.rubberband_context.strokeStyle = \"#000000\";\n",
       "\n",
       "    this._resize_canvas = function(width, height) {\n",
       "        // Keep the size of the canvas, canvas container, and rubber band\n",
       "        // canvas in synch.\n",
       "        canvas_div.css('width', width)\n",
       "        canvas_div.css('height', height)\n",
       "\n",
       "        canvas.attr('width', width * mpl.ratio);\n",
       "        canvas.attr('height', height * mpl.ratio);\n",
       "        canvas.attr('style', 'width: ' + width + 'px; height: ' + height + 'px;');\n",
       "\n",
       "        rubberband.attr('width', width);\n",
       "        rubberband.attr('height', height);\n",
       "    }\n",
       "\n",
       "    // Set the figure to an initial 600x600px, this will subsequently be updated\n",
       "    // upon first draw.\n",
       "    this._resize_canvas(600, 600);\n",
       "\n",
       "    // Disable right mouse context menu.\n",
       "    $(this.rubberband_canvas).bind(\"contextmenu\",function(e){\n",
       "        return false;\n",
       "    });\n",
       "\n",
       "    function set_focus () {\n",
       "        canvas.focus();\n",
       "        canvas_div.focus();\n",
       "    }\n",
       "\n",
       "    window.setTimeout(set_focus, 100);\n",
       "}\n",
       "\n",
       "mpl.figure.prototype._init_toolbar = function() {\n",
       "    var fig = this;\n",
       "\n",
       "    var nav_element = $('<div/>')\n",
       "    nav_element.attr('style', 'width: 100%');\n",
       "    this.root.append(nav_element);\n",
       "\n",
       "    // Define a callback function for later on.\n",
       "    function toolbar_event(event) {\n",
       "        return fig.toolbar_button_onclick(event['data']);\n",
       "    }\n",
       "    function toolbar_mouse_event(event) {\n",
       "        return fig.toolbar_button_onmouseover(event['data']);\n",
       "    }\n",
       "\n",
       "    for(var toolbar_ind in mpl.toolbar_items) {\n",
       "        var name = mpl.toolbar_items[toolbar_ind][0];\n",
       "        var tooltip = mpl.toolbar_items[toolbar_ind][1];\n",
       "        var image = mpl.toolbar_items[toolbar_ind][2];\n",
       "        var method_name = mpl.toolbar_items[toolbar_ind][3];\n",
       "\n",
       "        if (!name) {\n",
       "            // put a spacer in here.\n",
       "            continue;\n",
       "        }\n",
       "        var button = $('<button/>');\n",
       "        button.addClass('ui-button ui-widget ui-state-default ui-corner-all ' +\n",
       "                        'ui-button-icon-only');\n",
       "        button.attr('role', 'button');\n",
       "        button.attr('aria-disabled', 'false');\n",
       "        button.click(method_name, toolbar_event);\n",
       "        button.mouseover(tooltip, toolbar_mouse_event);\n",
       "\n",
       "        var icon_img = $('<span/>');\n",
       "        icon_img.addClass('ui-button-icon-primary ui-icon');\n",
       "        icon_img.addClass(image);\n",
       "        icon_img.addClass('ui-corner-all');\n",
       "\n",
       "        var tooltip_span = $('<span/>');\n",
       "        tooltip_span.addClass('ui-button-text');\n",
       "        tooltip_span.html(tooltip);\n",
       "\n",
       "        button.append(icon_img);\n",
       "        button.append(tooltip_span);\n",
       "\n",
       "        nav_element.append(button);\n",
       "    }\n",
       "\n",
       "    var fmt_picker_span = $('<span/>');\n",
       "\n",
       "    var fmt_picker = $('<select/>');\n",
       "    fmt_picker.addClass('mpl-toolbar-option ui-widget ui-widget-content');\n",
       "    fmt_picker_span.append(fmt_picker);\n",
       "    nav_element.append(fmt_picker_span);\n",
       "    this.format_dropdown = fmt_picker[0];\n",
       "\n",
       "    for (var ind in mpl.extensions) {\n",
       "        var fmt = mpl.extensions[ind];\n",
       "        var option = $(\n",
       "            '<option/>', {selected: fmt === mpl.default_extension}).html(fmt);\n",
       "        fmt_picker.append(option)\n",
       "    }\n",
       "\n",
       "    // Add hover states to the ui-buttons\n",
       "    $( \".ui-button\" ).hover(\n",
       "        function() { $(this).addClass(\"ui-state-hover\");},\n",
       "        function() { $(this).removeClass(\"ui-state-hover\");}\n",
       "    );\n",
       "\n",
       "    var status_bar = $('<span class=\"mpl-message\"/>');\n",
       "    nav_element.append(status_bar);\n",
       "    this.message = status_bar[0];\n",
       "}\n",
       "\n",
       "mpl.figure.prototype.request_resize = function(x_pixels, y_pixels) {\n",
       "    // Request matplotlib to resize the figure. Matplotlib will then trigger a resize in the client,\n",
       "    // which will in turn request a refresh of the image.\n",
       "    this.send_message('resize', {'width': x_pixels, 'height': y_pixels});\n",
       "}\n",
       "\n",
       "mpl.figure.prototype.send_message = function(type, properties) {\n",
       "    properties['type'] = type;\n",
       "    properties['figure_id'] = this.id;\n",
       "    this.ws.send(JSON.stringify(properties));\n",
       "}\n",
       "\n",
       "mpl.figure.prototype.send_draw_message = function() {\n",
       "    if (!this.waiting) {\n",
       "        this.waiting = true;\n",
       "        this.ws.send(JSON.stringify({type: \"draw\", figure_id: this.id}));\n",
       "    }\n",
       "}\n",
       "\n",
       "\n",
       "mpl.figure.prototype.handle_save = function(fig, msg) {\n",
       "    var format_dropdown = fig.format_dropdown;\n",
       "    var format = format_dropdown.options[format_dropdown.selectedIndex].value;\n",
       "    fig.ondownload(fig, format);\n",
       "}\n",
       "\n",
       "\n",
       "mpl.figure.prototype.handle_resize = function(fig, msg) {\n",
       "    var size = msg['size'];\n",
       "    if (size[0] != fig.canvas.width || size[1] != fig.canvas.height) {\n",
       "        fig._resize_canvas(size[0], size[1]);\n",
       "        fig.send_message(\"refresh\", {});\n",
       "    };\n",
       "}\n",
       "\n",
       "mpl.figure.prototype.handle_rubberband = function(fig, msg) {\n",
       "    var x0 = msg['x0'] / mpl.ratio;\n",
       "    var y0 = (fig.canvas.height - msg['y0']) / mpl.ratio;\n",
       "    var x1 = msg['x1'] / mpl.ratio;\n",
       "    var y1 = (fig.canvas.height - msg['y1']) / mpl.ratio;\n",
       "    x0 = Math.floor(x0) + 0.5;\n",
       "    y0 = Math.floor(y0) + 0.5;\n",
       "    x1 = Math.floor(x1) + 0.5;\n",
       "    y1 = Math.floor(y1) + 0.5;\n",
       "    var min_x = Math.min(x0, x1);\n",
       "    var min_y = Math.min(y0, y1);\n",
       "    var width = Math.abs(x1 - x0);\n",
       "    var height = Math.abs(y1 - y0);\n",
       "\n",
       "    fig.rubberband_context.clearRect(\n",
       "        0, 0, fig.canvas.width, fig.canvas.height);\n",
       "\n",
       "    fig.rubberband_context.strokeRect(min_x, min_y, width, height);\n",
       "}\n",
       "\n",
       "mpl.figure.prototype.handle_figure_label = function(fig, msg) {\n",
       "    // Updates the figure title.\n",
       "    fig.header.textContent = msg['label'];\n",
       "}\n",
       "\n",
       "mpl.figure.prototype.handle_cursor = function(fig, msg) {\n",
       "    var cursor = msg['cursor'];\n",
       "    switch(cursor)\n",
       "    {\n",
       "    case 0:\n",
       "        cursor = 'pointer';\n",
       "        break;\n",
       "    case 1:\n",
       "        cursor = 'default';\n",
       "        break;\n",
       "    case 2:\n",
       "        cursor = 'crosshair';\n",
       "        break;\n",
       "    case 3:\n",
       "        cursor = 'move';\n",
       "        break;\n",
       "    }\n",
       "    fig.rubberband_canvas.style.cursor = cursor;\n",
       "}\n",
       "\n",
       "mpl.figure.prototype.handle_message = function(fig, msg) {\n",
       "    fig.message.textContent = msg['message'];\n",
       "}\n",
       "\n",
       "mpl.figure.prototype.handle_draw = function(fig, msg) {\n",
       "    // Request the server to send over a new figure.\n",
       "    fig.send_draw_message();\n",
       "}\n",
       "\n",
       "mpl.figure.prototype.handle_image_mode = function(fig, msg) {\n",
       "    fig.image_mode = msg['mode'];\n",
       "}\n",
       "\n",
       "mpl.figure.prototype.updated_canvas_event = function() {\n",
       "    // Called whenever the canvas gets updated.\n",
       "    this.send_message(\"ack\", {});\n",
       "}\n",
       "\n",
       "// A function to construct a web socket function for onmessage handling.\n",
       "// Called in the figure constructor.\n",
       "mpl.figure.prototype._make_on_message_function = function(fig) {\n",
       "    return function socket_on_message(evt) {\n",
       "        if (evt.data instanceof Blob) {\n",
       "            /* FIXME: We get \"Resource interpreted as Image but\n",
       "             * transferred with MIME type text/plain:\" errors on\n",
       "             * Chrome.  But how to set the MIME type?  It doesn't seem\n",
       "             * to be part of the websocket stream */\n",
       "            evt.data.type = \"image/png\";\n",
       "\n",
       "            /* Free the memory for the previous frames */\n",
       "            if (fig.imageObj.src) {\n",
       "                (window.URL || window.webkitURL).revokeObjectURL(\n",
       "                    fig.imageObj.src);\n",
       "            }\n",
       "\n",
       "            fig.imageObj.src = (window.URL || window.webkitURL).createObjectURL(\n",
       "                evt.data);\n",
       "            fig.updated_canvas_event();\n",
       "            fig.waiting = false;\n",
       "            return;\n",
       "        }\n",
       "        else if (typeof evt.data === 'string' && evt.data.slice(0, 21) == \"data:image/png;base64\") {\n",
       "            fig.imageObj.src = evt.data;\n",
       "            fig.updated_canvas_event();\n",
       "            fig.waiting = false;\n",
       "            return;\n",
       "        }\n",
       "\n",
       "        var msg = JSON.parse(evt.data);\n",
       "        var msg_type = msg['type'];\n",
       "\n",
       "        // Call the  \"handle_{type}\" callback, which takes\n",
       "        // the figure and JSON message as its only arguments.\n",
       "        try {\n",
       "            var callback = fig[\"handle_\" + msg_type];\n",
       "        } catch (e) {\n",
       "            console.log(\"No handler for the '\" + msg_type + \"' message type: \", msg);\n",
       "            return;\n",
       "        }\n",
       "\n",
       "        if (callback) {\n",
       "            try {\n",
       "                // console.log(\"Handling '\" + msg_type + \"' message: \", msg);\n",
       "                callback(fig, msg);\n",
       "            } catch (e) {\n",
       "                console.log(\"Exception inside the 'handler_\" + msg_type + \"' callback:\", e, e.stack, msg);\n",
       "            }\n",
       "        }\n",
       "    };\n",
       "}\n",
       "\n",
       "// from http://stackoverflow.com/questions/1114465/getting-mouse-location-in-canvas\n",
       "mpl.findpos = function(e) {\n",
       "    //this section is from http://www.quirksmode.org/js/events_properties.html\n",
       "    var targ;\n",
       "    if (!e)\n",
       "        e = window.event;\n",
       "    if (e.target)\n",
       "        targ = e.target;\n",
       "    else if (e.srcElement)\n",
       "        targ = e.srcElement;\n",
       "    if (targ.nodeType == 3) // defeat Safari bug\n",
       "        targ = targ.parentNode;\n",
       "\n",
       "    // jQuery normalizes the pageX and pageY\n",
       "    // pageX,Y are the mouse positions relative to the document\n",
       "    // offset() returns the position of the element relative to the document\n",
       "    var x = e.pageX - $(targ).offset().left;\n",
       "    var y = e.pageY - $(targ).offset().top;\n",
       "\n",
       "    return {\"x\": x, \"y\": y};\n",
       "};\n",
       "\n",
       "/*\n",
       " * return a copy of an object with only non-object keys\n",
       " * we need this to avoid circular references\n",
       " * http://stackoverflow.com/a/24161582/3208463\n",
       " */\n",
       "function simpleKeys (original) {\n",
       "  return Object.keys(original).reduce(function (obj, key) {\n",
       "    if (typeof original[key] !== 'object')\n",
       "        obj[key] = original[key]\n",
       "    return obj;\n",
       "  }, {});\n",
       "}\n",
       "\n",
       "mpl.figure.prototype.mouse_event = function(event, name) {\n",
       "    var canvas_pos = mpl.findpos(event)\n",
       "\n",
       "    if (name === 'button_press')\n",
       "    {\n",
       "        this.canvas.focus();\n",
       "        this.canvas_div.focus();\n",
       "    }\n",
       "\n",
       "    var x = canvas_pos.x * mpl.ratio;\n",
       "    var y = canvas_pos.y * mpl.ratio;\n",
       "\n",
       "    this.send_message(name, {x: x, y: y, button: event.button,\n",
       "                             step: event.step,\n",
       "                             guiEvent: simpleKeys(event)});\n",
       "\n",
       "    /* This prevents the web browser from automatically changing to\n",
       "     * the text insertion cursor when the button is pressed.  We want\n",
       "     * to control all of the cursor setting manually through the\n",
       "     * 'cursor' event from matplotlib */\n",
       "    event.preventDefault();\n",
       "    return false;\n",
       "}\n",
       "\n",
       "mpl.figure.prototype._key_event_extra = function(event, name) {\n",
       "    // Handle any extra behaviour associated with a key event\n",
       "}\n",
       "\n",
       "mpl.figure.prototype.key_event = function(event, name) {\n",
       "\n",
       "    // Prevent repeat events\n",
       "    if (name == 'key_press')\n",
       "    {\n",
       "        if (event.which === this._key)\n",
       "            return;\n",
       "        else\n",
       "            this._key = event.which;\n",
       "    }\n",
       "    if (name == 'key_release')\n",
       "        this._key = null;\n",
       "\n",
       "    var value = '';\n",
       "    if (event.ctrlKey && event.which != 17)\n",
       "        value += \"ctrl+\";\n",
       "    if (event.altKey && event.which != 18)\n",
       "        value += \"alt+\";\n",
       "    if (event.shiftKey && event.which != 16)\n",
       "        value += \"shift+\";\n",
       "\n",
       "    value += 'k';\n",
       "    value += event.which.toString();\n",
       "\n",
       "    this._key_event_extra(event, name);\n",
       "\n",
       "    this.send_message(name, {key: value,\n",
       "                             guiEvent: simpleKeys(event)});\n",
       "    return false;\n",
       "}\n",
       "\n",
       "mpl.figure.prototype.toolbar_button_onclick = function(name) {\n",
       "    if (name == 'download') {\n",
       "        this.handle_save(this, null);\n",
       "    } else {\n",
       "        this.send_message(\"toolbar_button\", {name: name});\n",
       "    }\n",
       "};\n",
       "\n",
       "mpl.figure.prototype.toolbar_button_onmouseover = function(tooltip) {\n",
       "    this.message.textContent = tooltip;\n",
       "};\n",
       "mpl.toolbar_items = [[\"Home\", \"Reset original view\", \"fa fa-home icon-home\", \"home\"], [\"Back\", \"Back to  previous view\", \"fa fa-arrow-left icon-arrow-left\", \"back\"], [\"Forward\", \"Forward to next view\", \"fa fa-arrow-right icon-arrow-right\", \"forward\"], [\"\", \"\", \"\", \"\"], [\"Pan\", \"Pan axes with left mouse, zoom with right\", \"fa fa-arrows icon-move\", \"pan\"], [\"Zoom\", \"Zoom to rectangle\", \"fa fa-square-o icon-check-empty\", \"zoom\"], [\"\", \"\", \"\", \"\"], [\"Download\", \"Download plot\", \"fa fa-floppy-o icon-save\", \"download\"]];\n",
       "\n",
       "mpl.extensions = [\"eps\", \"jpeg\", \"pdf\", \"png\", \"ps\", \"raw\", \"svg\", \"tif\"];\n",
       "\n",
       "mpl.default_extension = \"png\";var comm_websocket_adapter = function(comm) {\n",
       "    // Create a \"websocket\"-like object which calls the given IPython comm\n",
       "    // object with the appropriate methods. Currently this is a non binary\n",
       "    // socket, so there is still some room for performance tuning.\n",
       "    var ws = {};\n",
       "\n",
       "    ws.close = function() {\n",
       "        comm.close()\n",
       "    };\n",
       "    ws.send = function(m) {\n",
       "        //console.log('sending', m);\n",
       "        comm.send(m);\n",
       "    };\n",
       "    // Register the callback with on_msg.\n",
       "    comm.on_msg(function(msg) {\n",
       "        //console.log('receiving', msg['content']['data'], msg);\n",
       "        // Pass the mpl event to the overriden (by mpl) onmessage function.\n",
       "        ws.onmessage(msg['content']['data'])\n",
       "    });\n",
       "    return ws;\n",
       "}\n",
       "\n",
       "mpl.mpl_figure_comm = function(comm, msg) {\n",
       "    // This is the function which gets called when the mpl process\n",
       "    // starts-up an IPython Comm through the \"matplotlib\" channel.\n",
       "\n",
       "    var id = msg.content.data.id;\n",
       "    // Get hold of the div created by the display call when the Comm\n",
       "    // socket was opened in Python.\n",
       "    var element = $(\"#\" + id);\n",
       "    var ws_proxy = comm_websocket_adapter(comm)\n",
       "\n",
       "    function ondownload(figure, format) {\n",
       "        window.open(figure.imageObj.src);\n",
       "    }\n",
       "\n",
       "    var fig = new mpl.figure(id, ws_proxy,\n",
       "                           ondownload,\n",
       "                           element.get(0));\n",
       "\n",
       "    // Call onopen now - mpl needs it, as it is assuming we've passed it a real\n",
       "    // web socket which is closed, not our websocket->open comm proxy.\n",
       "    ws_proxy.onopen();\n",
       "\n",
       "    fig.parent_element = element.get(0);\n",
       "    fig.cell_info = mpl.find_output_cell(\"<div id='\" + id + \"'></div>\");\n",
       "    if (!fig.cell_info) {\n",
       "        console.error(\"Failed to find cell for figure\", id, fig);\n",
       "        return;\n",
       "    }\n",
       "\n",
       "    var output_index = fig.cell_info[2]\n",
       "    var cell = fig.cell_info[0];\n",
       "\n",
       "};\n",
       "\n",
       "mpl.figure.prototype.handle_close = function(fig, msg) {\n",
       "    var width = fig.canvas.width/mpl.ratio\n",
       "    fig.root.unbind('remove')\n",
       "\n",
       "    // Update the output cell to use the data from the current canvas.\n",
       "    fig.push_to_output();\n",
       "    var dataURL = fig.canvas.toDataURL();\n",
       "    // Re-enable the keyboard manager in IPython - without this line, in FF,\n",
       "    // the notebook keyboard shortcuts fail.\n",
       "    IPython.keyboard_manager.enable()\n",
       "    $(fig.parent_element).html('<img src=\"' + dataURL + '\" width=\"' + width + '\">');\n",
       "    fig.close_ws(fig, msg);\n",
       "}\n",
       "\n",
       "mpl.figure.prototype.close_ws = function(fig, msg){\n",
       "    fig.send_message('closing', msg);\n",
       "    // fig.ws.close()\n",
       "}\n",
       "\n",
       "mpl.figure.prototype.push_to_output = function(remove_interactive) {\n",
       "    // Turn the data on the canvas into data in the output cell.\n",
       "    var width = this.canvas.width/mpl.ratio\n",
       "    var dataURL = this.canvas.toDataURL();\n",
       "    this.cell_info[1]['text/html'] = '<img src=\"' + dataURL + '\" width=\"' + width + '\">';\n",
       "}\n",
       "\n",
       "mpl.figure.prototype.updated_canvas_event = function() {\n",
       "    // Tell IPython that the notebook contents must change.\n",
       "    IPython.notebook.set_dirty(true);\n",
       "    this.send_message(\"ack\", {});\n",
       "    var fig = this;\n",
       "    // Wait a second, then push the new image to the DOM so\n",
       "    // that it is saved nicely (might be nice to debounce this).\n",
       "    setTimeout(function () { fig.push_to_output() }, 1000);\n",
       "}\n",
       "\n",
       "mpl.figure.prototype._init_toolbar = function() {\n",
       "    var fig = this;\n",
       "\n",
       "    var nav_element = $('<div/>')\n",
       "    nav_element.attr('style', 'width: 100%');\n",
       "    this.root.append(nav_element);\n",
       "\n",
       "    // Define a callback function for later on.\n",
       "    function toolbar_event(event) {\n",
       "        return fig.toolbar_button_onclick(event['data']);\n",
       "    }\n",
       "    function toolbar_mouse_event(event) {\n",
       "        return fig.toolbar_button_onmouseover(event['data']);\n",
       "    }\n",
       "\n",
       "    for(var toolbar_ind in mpl.toolbar_items){\n",
       "        var name = mpl.toolbar_items[toolbar_ind][0];\n",
       "        var tooltip = mpl.toolbar_items[toolbar_ind][1];\n",
       "        var image = mpl.toolbar_items[toolbar_ind][2];\n",
       "        var method_name = mpl.toolbar_items[toolbar_ind][3];\n",
       "\n",
       "        if (!name) { continue; };\n",
       "\n",
       "        var button = $('<button class=\"btn btn-default\" href=\"#\" title=\"' + name + '\"><i class=\"fa ' + image + ' fa-lg\"></i></button>');\n",
       "        button.click(method_name, toolbar_event);\n",
       "        button.mouseover(tooltip, toolbar_mouse_event);\n",
       "        nav_element.append(button);\n",
       "    }\n",
       "\n",
       "    // Add the status bar.\n",
       "    var status_bar = $('<span class=\"mpl-message\" style=\"text-align:right; float: right;\"/>');\n",
       "    nav_element.append(status_bar);\n",
       "    this.message = status_bar[0];\n",
       "\n",
       "    // Add the close button to the window.\n",
       "    var buttongrp = $('<div class=\"btn-group inline pull-right\"></div>');\n",
       "    var button = $('<button class=\"btn btn-mini btn-primary\" href=\"#\" title=\"Stop Interaction\"><i class=\"fa fa-power-off icon-remove icon-large\"></i></button>');\n",
       "    button.click(function (evt) { fig.handle_close(fig, {}); } );\n",
       "    button.mouseover('Stop Interaction', toolbar_mouse_event);\n",
       "    buttongrp.append(button);\n",
       "    var titlebar = this.root.find($('.ui-dialog-titlebar'));\n",
       "    titlebar.prepend(buttongrp);\n",
       "}\n",
       "\n",
       "mpl.figure.prototype._root_extra_style = function(el){\n",
       "    var fig = this\n",
       "    el.on(\"remove\", function(){\n",
       "\tfig.close_ws(fig, {});\n",
       "    });\n",
       "}\n",
       "\n",
       "mpl.figure.prototype._canvas_extra_style = function(el){\n",
       "    // this is important to make the div 'focusable\n",
       "    el.attr('tabindex', 0)\n",
       "    // reach out to IPython and tell the keyboard manager to turn it's self\n",
       "    // off when our div gets focus\n",
       "\n",
       "    // location in version 3\n",
       "    if (IPython.notebook.keyboard_manager) {\n",
       "        IPython.notebook.keyboard_manager.register_events(el);\n",
       "    }\n",
       "    else {\n",
       "        // location in version 2\n",
       "        IPython.keyboard_manager.register_events(el);\n",
       "    }\n",
       "\n",
       "}\n",
       "\n",
       "mpl.figure.prototype._key_event_extra = function(event, name) {\n",
       "    var manager = IPython.notebook.keyboard_manager;\n",
       "    if (!manager)\n",
       "        manager = IPython.keyboard_manager;\n",
       "\n",
       "    // Check for shift+enter\n",
       "    if (event.shiftKey && event.which == 13) {\n",
       "        this.canvas_div.blur();\n",
       "        // select the cell after this one\n",
       "        var index = IPython.notebook.find_cell_index(this.cell_info[0]);\n",
       "        IPython.notebook.select(index + 1);\n",
       "    }\n",
       "}\n",
       "\n",
       "mpl.figure.prototype.handle_save = function(fig, msg) {\n",
       "    fig.ondownload(fig, null);\n",
       "}\n",
       "\n",
       "\n",
       "mpl.find_output_cell = function(html_output) {\n",
       "    // Return the cell and output element which can be found *uniquely* in the notebook.\n",
       "    // Note - this is a bit hacky, but it is done because the \"notebook_saving.Notebook\"\n",
       "    // IPython event is triggered only after the cells have been serialised, which for\n",
       "    // our purposes (turning an active figure into a static one), is too late.\n",
       "    var cells = IPython.notebook.get_cells();\n",
       "    var ncells = cells.length;\n",
       "    for (var i=0; i<ncells; i++) {\n",
       "        var cell = cells[i];\n",
       "        if (cell.cell_type === 'code'){\n",
       "            for (var j=0; j<cell.output_area.outputs.length; j++) {\n",
       "                var data = cell.output_area.outputs[j];\n",
       "                if (data.data) {\n",
       "                    // IPython >= 3 moved mimebundle to data attribute of output\n",
       "                    data = data.data;\n",
       "                }\n",
       "                if (data['text/html'] == html_output) {\n",
       "                    return [cell, data, j];\n",
       "                }\n",
       "            }\n",
       "        }\n",
       "    }\n",
       "}\n",
       "\n",
       "// Register the function which deals with the matplotlib target/channel.\n",
       "// The kernel may be null if the page has been refreshed.\n",
       "if (IPython.notebook.kernel != null) {\n",
       "    IPython.notebook.kernel.comm_manager.register_target('matplotlib', mpl.mpl_figure_comm);\n",
       "}\n"
      ],
      "text/plain": [
       "<IPython.core.display.Javascript object>"
      ]
     },
     "metadata": {},
     "output_type": "display_data"
    },
    {
     "data": {
      "text/html": [
       "<img src=\"data:image/png;base64,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\" width=\"640\">"
      ],
      "text/plain": [
       "<IPython.core.display.HTML object>"
      ]
     },
     "metadata": {},
     "output_type": "display_data"
    },
    {
     "data": {
      "text/plain": [
       "<matplotlib.image.AxesImage at 0x1f344e9a0b8>"
      ]
     },
     "execution_count": 31,
     "metadata": {},
     "output_type": "execute_result"
    }
   ],
   "source": [
    "plt.imshow(filters[:,:,0,40], cmap='binary')"
   ]
  },
  {
   "cell_type": "markdown",
   "metadata": {},
   "source": [
    "## First experiment: fully connected autoencoder"
   ]
  },
  {
   "cell_type": "code",
   "execution_count": null,
   "metadata": {
    "collapsed": true
   },
   "outputs": [],
   "source": [
    "sess = tf.Session(config=tf.ConfigProto(log_device_placement=True))"
   ]
  },
  {
   "cell_type": "code",
   "execution_count": null,
   "metadata": {
    "collapsed": true
   },
   "outputs": [],
   "source": [
    "flat_input_ph = tf.placeholder(\"float\", [None, 8 * 8 * 6])\n",
    "fc_autoencoder1 = create_fully_connected(flat_input_ph, [60, 30, 20], sess)"
   ]
  },
  {
   "cell_type": "code",
   "execution_count": null,
   "metadata": {
    "collapsed": true
   },
   "outputs": [],
   "source": [
    "# writer = tf.summary.FileWriter('./logs/', graph=tf.get_default_graph())"
   ]
  },
  {
   "cell_type": "code",
   "execution_count": null,
   "metadata": {
    "collapsed": true
   },
   "outputs": [],
   "source": [
    "train(fc_autoencoder1, X_train, True, flat_input_ph, sess, num_iters=2000)"
   ]
  },
  {
   "cell_type": "code",
   "execution_count": null,
   "metadata": {
    "collapsed": true
   },
   "outputs": [],
   "source": [
    "decodedLong = sess.run(fc_autoencoder1['decoded'], feed_dict={flat_input_ph: np.reshape(X_eval, (X_eval.shape[0], -1))})\n",
    "\n",
    "decoded = np.reshape(decodedLong, (X_eval.shape[0], 8, 8, 6))"
   ]
  },
  {
   "cell_type": "code",
   "execution_count": null,
   "metadata": {
    "collapsed": true
   },
   "outputs": [],
   "source": [
    "np.sum(quantize_arr_vec(decoded) != X_eval) / decoded.size"
   ]
  },
  {
   "cell_type": "code",
   "execution_count": null,
   "metadata": {
    "collapsed": true
   },
   "outputs": [],
   "source": [
    "arr_to_board(decoded[40])\n",
    "arr_to_board(X_eval[40])"
   ]
  },
  {
   "cell_type": "markdown",
   "metadata": {},
   "source": [
    "## Overfit on a tiny training set"
   ]
  },
  {
   "cell_type": "code",
   "execution_count": null,
   "metadata": {
    "collapsed": true
   },
   "outputs": [],
   "source": [
    "small_inds = np.random.choice(X.shape[0], 10)\n",
    "X_small = X[small_inds]"
   ]
  },
  {
   "cell_type": "code",
   "execution_count": null,
   "metadata": {
    "collapsed": true
   },
   "outputs": [],
   "source": [
    "flat_input_ph = tf.placeholder(\"float\", [None, 8 * 8 * 6])\n",
    "# conv_ae = create_cae(input_ph, [], 400)\n",
    "fc_autoencoder1 = create_fully_connected(flat_input_ph, [60, 30, 20], sess)"
   ]
  },
  {
   "cell_type": "code",
   "execution_count": null,
   "metadata": {
    "collapsed": true
   },
   "outputs": [],
   "source": [
    "train(fc_autoencoder1, X_small, True, flat_input_ph, sess, num_iters=10000, lr=.001, batch_size=10)"
   ]
  },
  {
   "cell_type": "code",
   "execution_count": null,
   "metadata": {
    "collapsed": true
   },
   "outputs": [],
   "source": [
    "arr_to_board(X_small[0])\n",
    "arr_to_board(np.reshape(sess.run(fc_autoencoder1['decoded'],\n",
    "                                 feed_dict={flat_input_ph: np.reshape(X_small, (1, -1))})[0], (8, 8, 6)))"
   ]
  },
  {
   "cell_type": "markdown",
   "metadata": {},
   "source": [
    "## Now a simple conv net"
   ]
  },
  {
   "cell_type": "code",
   "execution_count": null,
   "metadata": {
    "collapsed": true,
    "scrolled": false
   },
   "outputs": [],
   "source": [
    "input_ph = tf.placeholder(\"float\", [None, 8, 8, 6])\n",
    "conv_ae = create_cae(input_ph, [50, 50, 'pool', 50], 40)"
   ]
  },
  {
   "cell_type": "code",
   "execution_count": null,
   "metadata": {
    "collapsed": true
   },
   "outputs": [],
   "source": [
    "train(conv_ae, X_train, False, input_ph, sess, num_iters=10000, lr=.001)"
   ]
  },
  {
   "cell_type": "code",
   "execution_count": null,
   "metadata": {
    "collapsed": true
   },
   "outputs": [],
   "source": [
    "decoded = sess.run(conv_ae['decoded'], feed_dict={input_ph: X_eval})"
   ]
  },
  {
   "cell_type": "code",
   "execution_count": null,
   "metadata": {
    "collapsed": true
   },
   "outputs": [],
   "source": [
    "np.sum(quantize_arr_vec(decoded) != X_eval) / decoded.size"
   ]
  },
  {
   "cell_type": "code",
   "execution_count": null,
   "metadata": {
    "collapsed": true,
    "scrolled": false
   },
   "outputs": [],
   "source": [
    "arr_to_board(X_eval[52])\n",
    "arr_to_board(decoded[52])"
   ]
  },
  {
   "cell_type": "code",
   "execution_count": null,
   "metadata": {
    "collapsed": true
   },
   "outputs": [],
   "source": [
    "train_decoded = sess.run(conv_ae['decoded'], feed_dict={input_ph: X_train})"
   ]
  },
  {
   "cell_type": "code",
   "execution_count": null,
   "metadata": {
    "collapsed": true
   },
   "outputs": [],
   "source": [
    "np.sum(train_decoded > .5)"
   ]
  },
  {
   "cell_type": "code",
   "execution_count": null,
   "metadata": {
    "collapsed": true
   },
   "outputs": [],
   "source": [
    "np.sum(X_train > .5)"
   ]
  },
  {
   "cell_type": "code",
   "execution_count": null,
   "metadata": {
    "collapsed": true
   },
   "outputs": [],
   "source": [
    "np.sum(decoded > .5)"
   ]
  },
  {
   "cell_type": "markdown",
   "metadata": {},
   "source": [
    "# Come back to this later"
   ]
  },
  {
   "cell_type": "code",
   "execution_count": null,
   "metadata": {
    "collapsed": true
   },
   "outputs": [],
   "source": [
    "neuron = autoencoder['encoded'][0][5]\n",
    "neuron_grad = tf.gradients(neuron, x)\n",
    "\n",
    "# board = np.zeros((8,8,6))\n",
    "board = np.random.normal(size=(8,8,6), scale=.1)\n",
    "print(sess.run(neuron, feed_dict={x: np.reshape(board, (1, -1))}))\n",
    "\n",
    "for i in range(10000):\n",
    "    grad = sess.run(neuron_grad, feed_dict={x: np.reshape(board, (1, -1))})[0]\n",
    "    grad = np.reshape(grad, (8,8,6))\n",
    "    board += 1e-3 * grad\n",
    "    board[board > 1] = 1\n",
    "    board[board < -1] = -1\n",
    "    \n",
    "    if i % 1000 == 0:\n",
    "        print(sess.run(neuron, feed_dict={x: np.reshape(board, (1, -1))}))"
   ]
  },
  {
   "cell_type": "code",
   "execution_count": null,
   "metadata": {
    "collapsed": true
   },
   "outputs": [],
   "source": [
    "arr_to_board(board)"
   ]
  },
  {
   "cell_type": "code",
   "execution_count": null,
   "metadata": {
    "collapsed": true
   },
   "outputs": [],
   "source": [
    "board"
   ]
  },
  {
   "cell_type": "code",
   "execution_count": null,
   "metadata": {
    "collapsed": true
   },
   "outputs": [],
   "source": []
  }
 ],
 "metadata": {
  "kernelspec": {
   "display_name": "Python 3",
   "language": "python",
   "name": "python3"
  },
  "language_info": {
   "codemirror_mode": {
    "name": "ipython",
    "version": 3
   },
   "file_extension": ".py",
   "mimetype": "text/x-python",
   "name": "python",
   "nbconvert_exporter": "python",
   "pygments_lexer": "ipython3",
   "version": "3.6.1"
  }
 },
 "nbformat": 4,
 "nbformat_minor": 2
}
